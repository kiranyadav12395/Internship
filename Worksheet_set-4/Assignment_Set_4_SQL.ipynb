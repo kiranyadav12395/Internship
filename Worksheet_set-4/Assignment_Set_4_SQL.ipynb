{
 "cells": [
  {
   "cell_type": "code",
   "execution_count": 1,
   "id": "6121a315",
   "metadata": {},
   "outputs": [],
   "source": [
    "# Connecting with database.\n",
    "# if there is no database exist, it will create one. \n",
    "\n",
    "import sqlite3\n",
    "db = sqlite3.connect(\"Modelcars_database.db\")"
   ]
  },
  {
   "cell_type": "code",
   "execution_count": 3,
   "id": "cdfffbe9",
   "metadata": {},
   "outputs": [],
   "source": [
    "cursor = db.cursor()"
   ]
  },
  {
   "cell_type": "code",
   "execution_count": 7,
   "id": "3eed8ba6",
   "metadata": {},
   "outputs": [
    {
     "data": {
      "text/plain": [
       "<sqlite3.Cursor at 0x1c909ec4ea0>"
      ]
     },
     "execution_count": 7,
     "metadata": {},
     "output_type": "execute_result"
    }
   ],
   "source": [
    "cursor.execute(\"create table Orders_new(orderNumber, orderDate, requiredDate, shippedDate, status, comments, customerNumber)\")"
   ]
  },
  {
   "cell_type": "code",
   "execution_count": 9,
   "id": "f5807bfe",
   "metadata": {},
   "outputs": [
    {
     "name": "stdout",
     "output_type": "stream",
     "text": [
      "20 records inserted\n"
     ]
    }
   ],
   "source": [
    "with open ('Ordersdata.csv', 'r') as file:\n",
    "    no_records = 0\n",
    "    for row in file:\n",
    "        cursor.execute(\"insert into Orders_new values (?, ?, ?, ?, ?, ?, ?)\", row.split(\",\"))\n",
    "        db.commit()\n",
    "        no_records+=1\n",
    "print(no_records, 'records inserted')  "
   ]
  },
  {
   "cell_type": "code",
   "execution_count": 10,
   "id": "d4bd49bb",
   "metadata": {},
   "outputs": [
    {
     "name": "stdout",
     "output_type": "stream",
     "text": [
      "Avg no of orders shipped in a day: - (1.0,)\n"
     ]
    }
   ],
   "source": [
    "# Question:-1\n",
    "# Write sql query to show avg no of orders shipped in a day. \n",
    "results = cursor.execute(\"select round (avg(comments)) from Orders_new\")\n",
    "for row in results:\n",
    "    print(\"Avg no of orders shipped in a day: -\", row)"
   ]
  },
  {
   "cell_type": "code",
   "execution_count": 11,
   "id": "05119046",
   "metadata": {},
   "outputs": [
    {
     "name": "stdout",
     "output_type": "stream",
     "text": [
      "Avg no of orders placed in a day: - (1.0,)\n"
     ]
    }
   ],
   "source": [
    "# Question:- 2\n",
    "# Write sql query to show avg no of orders shipped in a day. \n",
    "Avg_orders = cursor.execute(\"select round (avg(status)) from Orders_new\")\n",
    "for row in Avg_orders:\n",
    "    print(\"Avg no of orders placed in a day: -\", row)"
   ]
  },
  {
   "cell_type": "code",
   "execution_count": 12,
   "id": "65db9433",
   "metadata": {},
   "outputs": [
    {
     "data": {
      "text/plain": [
       "<sqlite3.Cursor at 0x1c909ec4ea0>"
      ]
     },
     "execution_count": 12,
     "metadata": {},
     "output_type": "execute_result"
    }
   ],
   "source": [
    "cursor.execute(\"create table products_new(productCode, productName, productLine, productScale, productVendor, productDescription, quantityInStock, buyPrice, MSRP)\")"
   ]
  },
  {
   "cell_type": "code",
   "execution_count": 13,
   "id": "bf2ff56f",
   "metadata": {},
   "outputs": [
    {
     "name": "stdout",
     "output_type": "stream",
     "text": [
      "10 records inserted\n"
     ]
    }
   ],
   "source": [
    "with open ('Products_data.csv', 'r') as file:\n",
    "    no_records = 0\n",
    "    for row in file:\n",
    "        cursor.execute(\"insert into products_new values (?, ?, ?, ?, ?, ?, ?, ?, ?)\", row.split(\",\"))\n",
    "        db.commit()\n",
    "        no_records+=1\n",
    "print(no_records, 'records inserted')  "
   ]
  },
  {
   "cell_type": "code",
   "execution_count": 14,
   "id": "2485d933",
   "metadata": {},
   "outputs": [
    {
     "name": "stdout",
     "output_type": "stream",
     "text": [
      "Product name with min MSRP is: - ('1000000\\n',)\n"
     ]
    }
   ],
   "source": [
    "# Queestion No:- 3\n",
    "# Write SQL query to show the product name \n",
    "\n",
    "Min_MSRP = cursor.execute(\"select min (MSRP) from products\")\n",
    "for row in Min_MSRP:\n",
    "    print( \"Product name with min MSRP is: -\", row)"
   ]
  },
  {
   "cell_type": "code",
   "execution_count": 15,
   "id": "3762ca42",
   "metadata": {},
   "outputs": [
    {
     "name": "stdout",
     "output_type": "stream",
     "text": [
      "Product name with Max_Stock qty is: - ('8',)\n"
     ]
    }
   ],
   "source": [
    "# Queestion No:- 4\n",
    "# Write SQL query to show the product name with maximum value of stock qty.  \n",
    "Max_Stock_Qty= cursor.execute(\"select max (quantityInStock) from products\")\n",
    "for row in Max_Stock_Qty:\n",
    "    print( \"Product name with Max_Stock qty is: -\", row)"
   ]
  },
  {
   "cell_type": "code",
   "execution_count": null,
   "id": "c5ceb9c3",
   "metadata": {},
   "outputs": [],
   "source": []
  }
 ],
 "metadata": {
  "kernelspec": {
   "display_name": "Python 3 (ipykernel)",
   "language": "python",
   "name": "python3"
  },
  "language_info": {
   "codemirror_mode": {
    "name": "ipython",
    "version": 3
   },
   "file_extension": ".py",
   "mimetype": "text/x-python",
   "name": "python",
   "nbconvert_exporter": "python",
   "pygments_lexer": "ipython3",
   "version": "3.9.12"
  }
 },
 "nbformat": 4,
 "nbformat_minor": 5
}
