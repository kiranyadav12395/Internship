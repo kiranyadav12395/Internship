{
 "cells": [
  {
   "cell_type": "code",
   "execution_count": 1,
   "id": "bf121c5d",
   "metadata": {},
   "outputs": [],
   "source": [
    "import selenium\n",
    "from selenium import webdriver\n",
    "from selenium.webdriver.common.by import By\n",
    "from selenium.webdriver.common.keys import Keys\n",
    "from selenium.webdriver.support import expected_conditions as EC\n",
    "from selenium.common.exceptions import NoSuchElementException, StaleElementReferenceException\n",
    "import time\n",
    "import pandas as pd\n",
    "import warnings\n",
    "warnings.filterwarnings('ignore')"
   ]
  },
  {
   "cell_type": "code",
   "execution_count": 2,
   "id": "deb021ba",
   "metadata": {},
   "outputs": [],
   "source": [
    "driver = webdriver.Chrome(r\"chromedriver.exe\")"
   ]
  },
  {
   "cell_type": "code",
   "execution_count": 3,
   "id": "ce654572",
   "metadata": {},
   "outputs": [],
   "source": [
    "time.sleep(3)"
   ]
  },
  {
   "cell_type": "code",
   "execution_count": 4,
   "id": "236b4cdc",
   "metadata": {},
   "outputs": [],
   "source": [
    "# Question:-1\n",
    "\n",
    "url = 'https://www.amazon.com/'\n",
    "driver.get(url)"
   ]
  },
  {
   "cell_type": "code",
   "execution_count": 5,
   "id": "c9928ef8",
   "metadata": {},
   "outputs": [],
   "source": [
    "time.sleep(2)"
   ]
  },
  {
   "cell_type": "code",
   "execution_count": 6,
   "id": "4839c4c4",
   "metadata": {},
   "outputs": [
    {
     "name": "stdout",
     "output_type": "stream",
     "text": [
      "Enter your search here: - Guitar\n"
     ]
    }
   ],
   "source": [
    "user_inp = input(\"Enter your search here: - \")"
   ]
  },
  {
   "cell_type": "code",
   "execution_count": 7,
   "id": "1d176a4d",
   "metadata": {},
   "outputs": [],
   "source": [
    "search_bar = driver.find_element(By.ID, 'twotabsearchtextbox')"
   ]
  },
  {
   "cell_type": "code",
   "execution_count": 8,
   "id": "d5b20b7e",
   "metadata": {},
   "outputs": [],
   "source": [
    "search_bar.clear()"
   ]
  },
  {
   "cell_type": "code",
   "execution_count": 9,
   "id": "2f120775",
   "metadata": {},
   "outputs": [],
   "source": [
    "search_bar.send_keys(user_inp)"
   ]
  },
  {
   "cell_type": "code",
   "execution_count": 10,
   "id": "f46b8cf3",
   "metadata": {},
   "outputs": [],
   "source": [
    "search_button=driver.find_element(By.XPATH, '//span[@class=\"nav-search-submit-text nav-sprite nav-progressive-attribute\"]')\n",
    "search_button.click()"
   ]
  },
  {
   "cell_type": "code",
   "execution_count": 11,
   "id": "b1663de6",
   "metadata": {},
   "outputs": [],
   "source": [
    "# Question No:- 2\n",
    "# Scrapping URL'S of first three pages. \n",
    "\n",
    "URL = []\n",
    "for r in range(3):\n",
    "    urls = driver.find_elements(By.XPATH, '//a[@class=\"a-link-normal s-no-outline\"]')\n",
    "    for i in urls:\n",
    "        URL.append(i.get_attribute('href')) "
   ]
  },
  {
   "cell_type": "code",
   "execution_count": 12,
   "id": "3fe72c3a",
   "metadata": {},
   "outputs": [],
   "source": [
    "# Click on to the next button. \n",
    "# First we try by using full xpath, later on we will try by using class name. \n",
    "\n",
    "try:\n",
    "    driver.find_element(By.XPATH, '/html/body/div[1]/div[2]/div[1]/div[1]/div/span[1]/div[1]/div[69]/div/div/span/a[3]')\n",
    "except:\n",
    "    nxt = driver.find_element(By.XPATH, '//a[@class=\"s-pagination-item s-pagination-next s-pagination-button s-pagination-separator\"]')\n",
    "    nxt.click()"
   ]
  },
  {
   "cell_type": "code",
   "execution_count": 13,
   "id": "3f942b4b",
   "metadata": {},
   "outputs": [
    {
     "data": {
      "text/plain": [
       "216"
      ]
     },
     "execution_count": 13,
     "metadata": {},
     "output_type": "execute_result"
    }
   ],
   "source": [
    "len(URL)"
   ]
  },
  {
   "cell_type": "code",
   "execution_count": 14,
   "id": "f7d8a235",
   "metadata": {},
   "outputs": [],
   "source": [
    "brand_name = []\n",
    "product_name = []\n",
    "price = []\n",
    "exchange = []\n",
    "delivery = []\n",
    "availiablity = [] \n",
    "URL = []"
   ]
  },
  {
   "cell_type": "code",
   "execution_count": 15,
   "id": "ff671a3e",
   "metadata": {},
   "outputs": [],
   "source": [
    "for url in URL:\n",
    "    driver.get(url)\n",
    "    time.sleep(2)"
   ]
  },
  {
   "cell_type": "code",
   "execution_count": 16,
   "id": "16a9ebfd",
   "metadata": {},
   "outputs": [],
   "source": [
    "# Here we write elements as we have no of brand names, else our code will not be run.\n",
    "\n",
    "for i in driver.find_elements(By.XPATH, '//h2[@class=\"a-size-mini a-spacing-none a-color-base s-line-clamp-4\"]'):\n",
    "    if i.text is None:\n",
    "        brand_name.append('--')\n",
    "    else:\n",
    "        brand_name.append(i.text)"
   ]
  },
  {
   "cell_type": "code",
   "execution_count": 17,
   "id": "ccf2e881",
   "metadata": {},
   "outputs": [
    {
     "data": {
      "text/plain": [
       "['Enya Nova Go Carbon Fiber Acoustic Guitar 1/2 Size Beginner Adult Travel Acustica Guitarra w/Starter Bundle Kit of Colorful Packaging, Acoustic Guitar Strap, Gig Bag, Cleaning Cloth, String(Black)',\n",
       " '38\" Wood Guitar With Case and Accessories for Kids/Boys/Girls/Teens/Beginners (Sunburst)',\n",
       " '30\" Wood Classical Guitar with Case and Accessories for Kids/Girls/Boys/Beginners (Pink)',\n",
       " 'JOYMUSIC 6 String 38\" Acoustic Guitar Kit,Sunburst,Gloss (JG-38C,3TS), Right',\n",
       " 'Enya Nova Go Carbon Fiber Acoustic Guitar 1/2 Size Beginner Adult Travel Acustica Guitarra w/Starter Bundle Kit of Colorful Packaging, Acoustic Guitar Strap, Gig Bag, Cleaning Cloth, String(Black)',\n",
       " '38\" Wood Guitar With Case and Accessories for Kids/Boys/Girls/Teens/Beginners (Sunburst)',\n",
       " 'YMC 38\" Blue Beginner Acoustic Guitar Starter Package Student Guitar with Gig Bag,Strap, 3 thickness 9 Picks,2 Pickguards,Pick Holder, Extra Strings, Electronic Tuner -Blue',\n",
       " 'Pyle Classical Acoustic Guitar 36” Junior size for beginners with starter kit - Steel String Guitarra Acustica Pack with Travel Gig Bag, Tuner, Picks, Strap for Students Practice, Kids, Adults',\n",
       " '30\" Wood Classical Guitar with Case and Accessories for Kids/Girls/Boys/Beginners (Pink)',\n",
       " 'First Act Acoustic Sunburst Guitar, 30 Inch - Brass Acoustic Guitar Strings, Tuning Gear, String Post Covers, Steel-Reinforced Neck, Strap Buttons – Musical Instruments',\n",
       " 'RockJam Acoustic Guitar Superkit Includes Stand, Gig Bag, Tuner, Picks, Plectrum Holder, Spare Strings & Online Lessons 6 String Pack, Right, Natural, Full (RJW-101-N-PK)',\n",
       " 'Beginner 30” Classical Acoustic Guitar - 1/4 Junior Size 6 String Linden Wood Guitar w/ Gig Bag, Tuner, Nylon Strings, Picks, Strap, For Beginners, Adults - Pyle PGACLS30',\n",
       " 'Pyle Acoustic Guitar Beginner Starter Kit Guitarra Acustica Bundle Pack with Cutaway Body Set for Students Practice, Kids, Adults, Right, Gray, one size (PGA550CAB)',\n",
       " 'Fender Premium Picks Sampler - 12 Pack Includes Thin, Medium & Heavy Gauges (Austin Bazaar Exclusive)…',\n",
       " '60 PCS Guitar Picks, 3 Different Thickness Abstract Art Colorful Celluloid Guitar Pick Plectrums For Bass, Electric, Acoustic Guitars Includes 0.46mm, 0.71mm, 0.96mm(Color Random)',\n",
       " \"D'Addario Celluloid Guitar Picks - Guitar Accessories - Guitar Picks for Acoustic Guitar, Electric Guitar, Bass Guitar - Natural Feel, Warm Tone - Assorted, Medium, 10-pack\",\n",
       " '',\n",
       " '',\n",
       " '',\n",
       " '',\n",
       " '',\n",
       " 'Music Alley MA34-N Classical Junior Guitar',\n",
       " 'Ibanez 6 String Solid-Body Electric Guitar, Right, Transparent Green Burst (GRX70QATEB)',\n",
       " 'Fender FA-15N 3/4 Scale Nylon String Beginner Acoustic Guitar',\n",
       " 'Seismic Audio - 12\" GUITAR SPEAKER CABINET EMPTY - 7 Ply Birch - 2x12 Speakerless Cab NEW 212 Black Tolex - Black Cloth Grill - Front or Rear Loading Options',\n",
       " 'JOYO 2.4GHz Wireless Guitar System 4 Channels Rechargeable Audio Wireless Transmitter Receiver for Guitar Bass Electric Instruments (JW-03)',\n",
       " 'No Bull Music Theory for Guitarists: Master the Essential Knowledge all Guitarists Need to Know',\n",
       " 'Riff BANDZ – Resistance Training Bands For Guitar Bass Banjo Piano Finger Speed System - Premium Set of 3 Hand Strengthener Accessories',\n",
       " 'Fender Player Stratocaster Electric Guitar - Maple Fingerboard - 3 Color Sunburst',\n",
       " 'Pyle Acoustic Guitar Starter Pack-34” ½ Junior Size 6 Linden Wood Red Burst Design w/Accessories Case Bag Steel Strings, Nylon Strap, Tuner, Picks, for Beginner, Right, (PGA820)',\n",
       " 'Fender FA-125 Dreadnought Acoustic Guitar, Walnut Fingerboard, Natural',\n",
       " 'Rise by Sawtooth Right Handed Beginner Electric Guitar Kit, Black',\n",
       " 'MOOER E7 Polyphonic Guitar Synth Mini Synth Pedal, 7 Guitar Synthesizer Tones with an individual arpeggiator and 7 Preset Slots…',\n",
       " 'Guitar Wall Mount Bass Guitar Holder Electric Guitar Hanger 4 Pack Guitar Wall Hook Guitar Holder',\n",
       " 'HUAWIND Soprano Ukulele Ukeleles for Beginners Mahogany 21 Inch Hawaiian Starter ukeleles for Kids Adults Child Guitar Ukalalee With Gig Bag（city walls Pattern）',\n",
       " 'Shark Guitar Capo Pretty Cool Capo for Electric Acoustic Classical Guitar Ukulele Zinc Alloy Spring Capo (black)',\n",
       " 'HUAWIND Classical Guitar Full Size 39 Inch Acoustic Guitar Nylon Strings Guitar for Beginners Adults with Bag',\n",
       " 'Cordoba Mini II FMH, Flamed Mahogany, Small Body, Nylon String Guitar',\n",
       " 'POMAIKAI Soprano Wood Ukulele Kid Starter Uke Hawaii kids Guitar 21 Inch with Gig Bag for kids Students and Beginners (Pink)',\n",
       " 'Beginner 30” Classical Acoustic Guitar - 6 String Linden Wood Traditional Style Guitar w/ Wood Fretboard, Case Bag, Nylon Strap, Tuner, 3 Picks - Great for Beginner, Children Use - Pyle PGAKT30',\n",
       " 'Jackson JS Series Dinky Arch Top JS22 Natural Oil',\n",
       " 'WINZZ 39 Inches Classical Guitar Full Size Beginner Acoustic with Online Lessons Bag Capo Tuner Strings',\n",
       " 'Kisangel 1pc Kids Beginner Guitar 23 Inch Guitar 6 String Vintage Style Acoustic Guitar Wooden Guitar Music Instruments for Kids(Blue)',\n",
       " 'Laminated Guitar Chord & Fretboard Note Chart Instructional Easy Poster for Beginners Chords & Notes A New Song Music 11\"x17\"',\n",
       " 'Moukey 30\" Acoustic Guitar for Beginner Junior Youth 1/4 Teen Size Nylon String Classical Guitarra Acustica with Chord Poster, Gig Bag, Tuner, Picks, Nylon Strings, Capo, Strap - Black',\n",
       " 'Guild Guitars DS-240 Slope Shoulder Acoustic Guitar, Vintage Sunburst, Solid Top, Westerly: Memoir Collection',\n",
       " 'Martin Smith 38 Inch Acoustic Guitar, Pink, With Case, Pick, Tuner, Strap, Extra Strings and 2 months of Lessons',\n",
       " 'LOMEVE Guitar Accessories Kit Include Acoustic Guitar Strings, Tuner, Capo, 3-in-1 Restring Tool, Picks, Pick Holder, Bridge Pins, Nuts & Saddles, Finger Protector, Finger Picks, Chord Chart (58PCS)',\n",
       " 'MEETOOT 50pcs Guitar Fretboard Fingerboard Side Dot Music Instrument Inlay Dots 50x2mm Guitar Fingerboard Side Marker',\n",
       " 'ChordBuddy “MADE IN THE USA” - Guitar Learning with Songbook, Lesson Plan, App, and Right Handed ChordBuddy',\n",
       " 'Guitar Americana Style Chord & Fretboard Note Chart Instructional Easy Poster for Beginners Chords & Notes A New Song Music 11\"x17\"',\n",
       " 'Trendy Soprano Ukulele for Beginners 21 Inch Hawaiian Ukulele for Kid Adult Student with Gig Bag (Black)',\n",
       " 'Donner Kids Electric Guitar 30 Inch Mini Electric Guitar Beginner Kit ST Style Junior Starter Package Red for Boys Girls Children with Amp, 600D Bag, Tuner, Picks, Cable, Strap, Extra Strings DSJ-100',\n",
       " 'Gretsch G9500 Limited Edition Jim Dandy - Nocturne Blue',\n",
       " 'Fender Malibu Player - California Series Acoustic Guitar - Arctic Gold',\n",
       " 'Kisangel 1pc 23 Inch Acoustic Guitar Wooden Beginner Guitar Music Instruments for Kids Girls Boys Beginners(Wood Color)',\n",
       " 'Taylor BT2 Baby Taylor Acoustic Guitar, Mahogany Top',\n",
       " 'Professional Classical Guitar 39 Inch Full Size for Beginners Adults Acoustic Guitar Guitarras Acústicas With Chord Poster Bag Strap Tuner Hanger Strings Winder Picks Holder Wipe',\n",
       " 'ChordBuddy “MADE IN THE USA” - Guitar Learning with Songbook, Lesson Plan, App, Right Handed ChordBuddy, and Tuner',\n",
       " 'reussir Guitar Chord Poster | 16\"x24\" Guitar Chord Chart & 56 Guitar Fretboard Cards & Magnetic Poster Hanger | A Gift for Guitar Beginners and Teachers',\n",
       " 'CNBLUE Acoustic Guitar Beginner 1/2 Size Dreadnought Mini Guitar 6 String Basswood 30 inch Kids Guitar youth acoustic guitar Steel Strings With Gig Bag',\n",
       " 'Pyle Classical Acoustic Guitar 36 Inch Junior Size Beginner Starter Kit Steel String Guitarra Acustica Bundle Pack with Gig Bag, Tuner, Picks, Strap for Students Practice, Kids, Adults',\n",
       " 'Vizcaya 38\" Black Beginner Left-Handed Acoustic Guitar Starter Package Student Guitar with Gig Bag,Strap, picks, Extra Strings, Electronic Tuner -Black Left-Handed',\n",
       " 'Strong Wind Classical Acoustic Guitar Nylon Strings Guitar Beginner Kit for Students Children Adult (Pink 30inch)',\n",
       " 'Asmuse 38 inch Acoustic Guitar Kit, Full Size Classical Acoustic Guitar 6 Strings with Gig Bag, Tuner, Picks, Strap Accessories for Beginners Adults Teens (Natural)',\n",
       " 'Bontempi Red Electric Guitar, Multicolor, 67 x 22 x 4.5 cm (241300)',\n",
       " 'IVIDEOSONGS Guitar Chord Chart Reference Poster 24\"x36\" • Educational Guitar Chord Poster for Teachers & Students • 84 Guitar Chords with Fret Guide • Guitar Chords Poster with 150+ Tutorials',\n",
       " 'MOOER PE100 Portable Desk Top Guitar Multi Effects with 198 presets, 36 effects, Drum Machine, Metronome, Tap Tempo, Aux In Headphone']"
      ]
     },
     "execution_count": 17,
     "metadata": {},
     "output_type": "execute_result"
    }
   ],
   "source": [
    "brand_name"
   ]
  },
  {
   "cell_type": "code",
   "execution_count": 18,
   "id": "b129d573",
   "metadata": {},
   "outputs": [
    {
     "data": {
      "text/plain": [
       "68"
      ]
     },
     "execution_count": 18,
     "metadata": {},
     "output_type": "execute_result"
    }
   ],
   "source": [
    "len(brand_name)"
   ]
  },
  {
   "cell_type": "code",
   "execution_count": 19,
   "id": "ad9fba7b",
   "metadata": {},
   "outputs": [],
   "source": [
    "# Here we have only 52 prices. \n",
    "\n",
    "for i in driver.find_elements(By.XPATH, '//span[@class=\"a-price-whole\"]'):\n",
    "    if i.text is None:\n",
    "        price.append('--')\n",
    "    else:\n",
    "        price.append(i.text)"
   ]
  },
  {
   "cell_type": "code",
   "execution_count": 20,
   "id": "59482a7c",
   "metadata": {},
   "outputs": [
    {
     "data": {
      "text/plain": [
       "['189',\n",
       " '55',\n",
       " '51',\n",
       " '43',\n",
       " '189',\n",
       " '55',\n",
       " '43',\n",
       " '51',\n",
       " '66',\n",
       " '52',\n",
       " '66',\n",
       " '51',\n",
       " '39',\n",
       " '82',\n",
       " '82',\n",
       " '99',\n",
       " '55',\n",
       " '10',\n",
       " '7',\n",
       " '3',\n",
       " '',\n",
       " '',\n",
       " '',\n",
       " '',\n",
       " '',\n",
       " '41',\n",
       " '258',\n",
       " '39',\n",
       " '15',\n",
       " '9',\n",
       " '185',\n",
       " '82',\n",
       " '13',\n",
       " '49',\n",
       " '11',\n",
       " '88',\n",
       " '158',\n",
       " '42',\n",
       " '55',\n",
       " '88',\n",
       " '30',\n",
       " '14',\n",
       " '69',\n",
       " '77',\n",
       " '17',\n",
       " '6',\n",
       " '44',\n",
       " '13',\n",
       " '36',\n",
       " '149',\n",
       " '189',\n",
       " '26',\n",
       " '449',\n",
       " '78',\n",
       " '59',\n",
       " '29',\n",
       " '52',\n",
       " '79',\n",
       " '64',\n",
       " '55',\n",
       " '69',\n",
       " '57',\n",
       " '19',\n",
       " '68']"
      ]
     },
     "execution_count": 20,
     "metadata": {},
     "output_type": "execute_result"
    }
   ],
   "source": [
    "price"
   ]
  },
  {
   "cell_type": "code",
   "execution_count": 21,
   "id": "10ec9886",
   "metadata": {},
   "outputs": [
    {
     "data": {
      "text/plain": [
       "64"
      ]
     },
     "execution_count": 21,
     "metadata": {},
     "output_type": "execute_result"
    }
   ],
   "source": [
    "len(price)"
   ]
  },
  {
   "cell_type": "code",
   "execution_count": 22,
   "id": "8aef1d93",
   "metadata": {},
   "outputs": [],
   "source": [
    "search_bar = driver.find_element(By.XPATH, '/html/body/div[1]/div[2]/div[1]/div[1]/div/span[1]/div[1]/div[2]/div/div/div/div/div/div/div[2]/div[1]/h2')\n",
    "search_bar.click()"
   ]
  },
  {
   "cell_type": "code",
   "execution_count": 23,
   "id": "8118610f",
   "metadata": {},
   "outputs": [
    {
     "name": "stdout",
     "output_type": "stream",
     "text": [
      "succesful scrap\n"
     ]
    }
   ],
   "source": [
    "try:\n",
    "    availiablity.append(driver.find_elements(By.XPATH, '//div[@id=\"availability\"]//span').text)\n",
    "except:\n",
    "    availiablity.append('-')\n",
    "    \n",
    "try:\n",
    "    exchange.append(driver.find_elements(By.ID, \"productSupportAndReturnPolicy-return-policy-anchor-text\").text)\n",
    "except:\n",
    "    exchange.append('-')\n",
    "       \n",
    "try:\n",
    "    delivery.append(driver.find_elements(By.XPATH, '//div[@class=\"a-spacing-base\"]//span//span').text)\n",
    "except:\n",
    "    delivery.append('-')\n",
    "    time.sleep(3)\n",
    "        \n",
    "print('succesful scrap')"
   ]
  },
  {
   "cell_type": "code",
   "execution_count": 24,
   "id": "3531d9a0",
   "metadata": {},
   "outputs": [
    {
     "data": {
      "text/plain": [
       "1"
      ]
     },
     "execution_count": 24,
     "metadata": {},
     "output_type": "execute_result"
    }
   ],
   "source": [
    "len(availiablity)"
   ]
  },
  {
   "cell_type": "code",
   "execution_count": 25,
   "id": "64bb3822",
   "metadata": {},
   "outputs": [
    {
     "data": {
      "text/plain": [
       "1"
      ]
     },
     "execution_count": 25,
     "metadata": {},
     "output_type": "execute_result"
    }
   ],
   "source": [
    "len(exchange)"
   ]
  },
  {
   "cell_type": "code",
   "execution_count": 26,
   "id": "99679809",
   "metadata": {},
   "outputs": [
    {
     "data": {
      "text/plain": [
       "1"
      ]
     },
     "execution_count": 26,
     "metadata": {},
     "output_type": "execute_result"
    }
   ],
   "source": [
    "len(delivery)"
   ]
  },
  {
   "cell_type": "code",
   "execution_count": 27,
   "id": "91606dda",
   "metadata": {},
   "outputs": [],
   "source": [
    "for i in driver.find_elements(By.ID, \"productTitle\"):\n",
    "    if i.text is None:\n",
    "        product_name.append('--')\n",
    "    else:\n",
    "        product_name.append(i.text)"
   ]
  },
  {
   "cell_type": "code",
   "execution_count": 28,
   "id": "2dc196e1",
   "metadata": {},
   "outputs": [
    {
     "data": {
      "text/plain": [
       "[]"
      ]
     },
     "execution_count": 28,
     "metadata": {},
     "output_type": "execute_result"
    }
   ],
   "source": [
    "product_name"
   ]
  },
  {
   "cell_type": "code",
   "execution_count": 29,
   "id": "cc68d77b",
   "metadata": {},
   "outputs": [
    {
     "data": {
      "text/plain": [
       "0"
      ]
     },
     "execution_count": 29,
     "metadata": {},
     "output_type": "execute_result"
    }
   ],
   "source": [
    "len(product_name)"
   ]
  },
  {
   "cell_type": "code",
   "execution_count": 30,
   "id": "aae1c39b",
   "metadata": {},
   "outputs": [
    {
     "ename": "ValueError",
     "evalue": "All arrays must be of the same length",
     "output_type": "error",
     "traceback": [
      "\u001b[1;31m---------------------------------------------------------------------------\u001b[0m",
      "\u001b[1;31mValueError\u001b[0m                                Traceback (most recent call last)",
      "Input \u001b[1;32mIn [30]\u001b[0m, in \u001b[0;36m<cell line: 1>\u001b[1;34m()\u001b[0m\n\u001b[1;32m----> 1\u001b[0m que2\u001b[38;5;241m=\u001b[39m\u001b[43mpd\u001b[49m\u001b[38;5;241;43m.\u001b[39;49m\u001b[43mDataFrame\u001b[49m\u001b[43m(\u001b[49m\u001b[43m{\u001b[49m\u001b[38;5;124;43m'\u001b[39;49m\u001b[38;5;124;43mBrand Name\u001b[39;49m\u001b[38;5;124;43m'\u001b[39;49m\u001b[43m:\u001b[49m\u001b[43mbrand_name\u001b[49m\u001b[43m,\u001b[49m\u001b[38;5;124;43m'\u001b[39;49m\u001b[38;5;124;43mName\u001b[39;49m\u001b[38;5;124;43m'\u001b[39;49m\u001b[43m:\u001b[49m\u001b[43mproduct_name\u001b[49m\u001b[43m,\u001b[49m\u001b[38;5;124;43m'\u001b[39;49m\u001b[38;5;124;43mAvailability\u001b[39;49m\u001b[38;5;124;43m'\u001b[39;49m\u001b[43m:\u001b[49m\u001b[43mavailiablity\u001b[49m\u001b[43m,\u001b[49m\u001b[38;5;124;43m'\u001b[39;49m\u001b[38;5;124;43mReturn/Exchange\u001b[39;49m\u001b[38;5;124;43m'\u001b[39;49m\u001b[43m:\u001b[49m\u001b[43mexchange\u001b[49m\u001b[43m,\u001b[49m\u001b[38;5;124;43m'\u001b[39;49m\u001b[38;5;124;43mDelivery\u001b[39;49m\u001b[38;5;124;43m'\u001b[39;49m\u001b[43m:\u001b[49m\u001b[43mdelivery\u001b[49m\u001b[43m,\u001b[49m\n\u001b[0;32m      2\u001b[0m \u001b[43m                 \u001b[49m\u001b[38;5;124;43m'\u001b[39;49m\u001b[38;5;124;43mPrice\u001b[39;49m\u001b[38;5;124;43m'\u001b[39;49m\u001b[43m:\u001b[49m\u001b[43mprice\u001b[49m\u001b[43m,\u001b[49m\u001b[38;5;124;43m'\u001b[39;49m\u001b[38;5;124;43mProduct_url\u001b[39;49m\u001b[38;5;124;43m'\u001b[39;49m\u001b[43m:\u001b[49m\u001b[43mURL\u001b[49m\u001b[43m}\u001b[49m\u001b[43m)\u001b[49m\n\u001b[0;32m      3\u001b[0m que2\n",
      "File \u001b[1;32m~\\anaconda3\\lib\\site-packages\\pandas\\core\\frame.py:636\u001b[0m, in \u001b[0;36mDataFrame.__init__\u001b[1;34m(self, data, index, columns, dtype, copy)\u001b[0m\n\u001b[0;32m    630\u001b[0m     mgr \u001b[38;5;241m=\u001b[39m \u001b[38;5;28mself\u001b[39m\u001b[38;5;241m.\u001b[39m_init_mgr(\n\u001b[0;32m    631\u001b[0m         data, axes\u001b[38;5;241m=\u001b[39m{\u001b[38;5;124m\"\u001b[39m\u001b[38;5;124mindex\u001b[39m\u001b[38;5;124m\"\u001b[39m: index, \u001b[38;5;124m\"\u001b[39m\u001b[38;5;124mcolumns\u001b[39m\u001b[38;5;124m\"\u001b[39m: columns}, dtype\u001b[38;5;241m=\u001b[39mdtype, copy\u001b[38;5;241m=\u001b[39mcopy\n\u001b[0;32m    632\u001b[0m     )\n\u001b[0;32m    634\u001b[0m \u001b[38;5;28;01melif\u001b[39;00m \u001b[38;5;28misinstance\u001b[39m(data, \u001b[38;5;28mdict\u001b[39m):\n\u001b[0;32m    635\u001b[0m     \u001b[38;5;66;03m# GH#38939 de facto copy defaults to False only in non-dict cases\u001b[39;00m\n\u001b[1;32m--> 636\u001b[0m     mgr \u001b[38;5;241m=\u001b[39m \u001b[43mdict_to_mgr\u001b[49m\u001b[43m(\u001b[49m\u001b[43mdata\u001b[49m\u001b[43m,\u001b[49m\u001b[43m \u001b[49m\u001b[43mindex\u001b[49m\u001b[43m,\u001b[49m\u001b[43m \u001b[49m\u001b[43mcolumns\u001b[49m\u001b[43m,\u001b[49m\u001b[43m \u001b[49m\u001b[43mdtype\u001b[49m\u001b[38;5;241;43m=\u001b[39;49m\u001b[43mdtype\u001b[49m\u001b[43m,\u001b[49m\u001b[43m \u001b[49m\u001b[43mcopy\u001b[49m\u001b[38;5;241;43m=\u001b[39;49m\u001b[43mcopy\u001b[49m\u001b[43m,\u001b[49m\u001b[43m \u001b[49m\u001b[43mtyp\u001b[49m\u001b[38;5;241;43m=\u001b[39;49m\u001b[43mmanager\u001b[49m\u001b[43m)\u001b[49m\n\u001b[0;32m    637\u001b[0m \u001b[38;5;28;01melif\u001b[39;00m \u001b[38;5;28misinstance\u001b[39m(data, ma\u001b[38;5;241m.\u001b[39mMaskedArray):\n\u001b[0;32m    638\u001b[0m     \u001b[38;5;28;01mimport\u001b[39;00m \u001b[38;5;21;01mnumpy\u001b[39;00m\u001b[38;5;21;01m.\u001b[39;00m\u001b[38;5;21;01mma\u001b[39;00m\u001b[38;5;21;01m.\u001b[39;00m\u001b[38;5;21;01mmrecords\u001b[39;00m \u001b[38;5;28;01mas\u001b[39;00m \u001b[38;5;21;01mmrecords\u001b[39;00m\n",
      "File \u001b[1;32m~\\anaconda3\\lib\\site-packages\\pandas\\core\\internals\\construction.py:502\u001b[0m, in \u001b[0;36mdict_to_mgr\u001b[1;34m(data, index, columns, dtype, typ, copy)\u001b[0m\n\u001b[0;32m    494\u001b[0m     arrays \u001b[38;5;241m=\u001b[39m [\n\u001b[0;32m    495\u001b[0m         x\n\u001b[0;32m    496\u001b[0m         \u001b[38;5;28;01mif\u001b[39;00m \u001b[38;5;129;01mnot\u001b[39;00m \u001b[38;5;28mhasattr\u001b[39m(x, \u001b[38;5;124m\"\u001b[39m\u001b[38;5;124mdtype\u001b[39m\u001b[38;5;124m\"\u001b[39m) \u001b[38;5;129;01mor\u001b[39;00m \u001b[38;5;129;01mnot\u001b[39;00m \u001b[38;5;28misinstance\u001b[39m(x\u001b[38;5;241m.\u001b[39mdtype, ExtensionDtype)\n\u001b[0;32m    497\u001b[0m         \u001b[38;5;28;01melse\u001b[39;00m x\u001b[38;5;241m.\u001b[39mcopy()\n\u001b[0;32m    498\u001b[0m         \u001b[38;5;28;01mfor\u001b[39;00m x \u001b[38;5;129;01min\u001b[39;00m arrays\n\u001b[0;32m    499\u001b[0m     ]\n\u001b[0;32m    500\u001b[0m     \u001b[38;5;66;03m# TODO: can we get rid of the dt64tz special case above?\u001b[39;00m\n\u001b[1;32m--> 502\u001b[0m \u001b[38;5;28;01mreturn\u001b[39;00m \u001b[43marrays_to_mgr\u001b[49m\u001b[43m(\u001b[49m\u001b[43marrays\u001b[49m\u001b[43m,\u001b[49m\u001b[43m \u001b[49m\u001b[43mcolumns\u001b[49m\u001b[43m,\u001b[49m\u001b[43m \u001b[49m\u001b[43mindex\u001b[49m\u001b[43m,\u001b[49m\u001b[43m \u001b[49m\u001b[43mdtype\u001b[49m\u001b[38;5;241;43m=\u001b[39;49m\u001b[43mdtype\u001b[49m\u001b[43m,\u001b[49m\u001b[43m \u001b[49m\u001b[43mtyp\u001b[49m\u001b[38;5;241;43m=\u001b[39;49m\u001b[43mtyp\u001b[49m\u001b[43m,\u001b[49m\u001b[43m \u001b[49m\u001b[43mconsolidate\u001b[49m\u001b[38;5;241;43m=\u001b[39;49m\u001b[43mcopy\u001b[49m\u001b[43m)\u001b[49m\n",
      "File \u001b[1;32m~\\anaconda3\\lib\\site-packages\\pandas\\core\\internals\\construction.py:120\u001b[0m, in \u001b[0;36marrays_to_mgr\u001b[1;34m(arrays, columns, index, dtype, verify_integrity, typ, consolidate)\u001b[0m\n\u001b[0;32m    117\u001b[0m \u001b[38;5;28;01mif\u001b[39;00m verify_integrity:\n\u001b[0;32m    118\u001b[0m     \u001b[38;5;66;03m# figure out the index, if necessary\u001b[39;00m\n\u001b[0;32m    119\u001b[0m     \u001b[38;5;28;01mif\u001b[39;00m index \u001b[38;5;129;01mis\u001b[39;00m \u001b[38;5;28;01mNone\u001b[39;00m:\n\u001b[1;32m--> 120\u001b[0m         index \u001b[38;5;241m=\u001b[39m \u001b[43m_extract_index\u001b[49m\u001b[43m(\u001b[49m\u001b[43marrays\u001b[49m\u001b[43m)\u001b[49m\n\u001b[0;32m    121\u001b[0m     \u001b[38;5;28;01melse\u001b[39;00m:\n\u001b[0;32m    122\u001b[0m         index \u001b[38;5;241m=\u001b[39m ensure_index(index)\n",
      "File \u001b[1;32m~\\anaconda3\\lib\\site-packages\\pandas\\core\\internals\\construction.py:674\u001b[0m, in \u001b[0;36m_extract_index\u001b[1;34m(data)\u001b[0m\n\u001b[0;32m    672\u001b[0m lengths \u001b[38;5;241m=\u001b[39m \u001b[38;5;28mlist\u001b[39m(\u001b[38;5;28mset\u001b[39m(raw_lengths))\n\u001b[0;32m    673\u001b[0m \u001b[38;5;28;01mif\u001b[39;00m \u001b[38;5;28mlen\u001b[39m(lengths) \u001b[38;5;241m>\u001b[39m \u001b[38;5;241m1\u001b[39m:\n\u001b[1;32m--> 674\u001b[0m     \u001b[38;5;28;01mraise\u001b[39;00m \u001b[38;5;167;01mValueError\u001b[39;00m(\u001b[38;5;124m\"\u001b[39m\u001b[38;5;124mAll arrays must be of the same length\u001b[39m\u001b[38;5;124m\"\u001b[39m)\n\u001b[0;32m    676\u001b[0m \u001b[38;5;28;01mif\u001b[39;00m have_dicts:\n\u001b[0;32m    677\u001b[0m     \u001b[38;5;28;01mraise\u001b[39;00m \u001b[38;5;167;01mValueError\u001b[39;00m(\n\u001b[0;32m    678\u001b[0m         \u001b[38;5;124m\"\u001b[39m\u001b[38;5;124mMixing dicts with non-Series may lead to ambiguous ordering.\u001b[39m\u001b[38;5;124m\"\u001b[39m\n\u001b[0;32m    679\u001b[0m     )\n",
      "\u001b[1;31mValueError\u001b[0m: All arrays must be of the same length"
     ]
    }
   ],
   "source": [
    "que2=pd.DataFrame({'Brand Name':brand_name,'Name':product_name,'Availability':availiablity,'Return/Exchange':exchange,'Delivery':delivery,\n",
    "                 'Price':price,'Product_url':URL})\n",
    "que2"
   ]
  },
  {
   "cell_type": "code",
   "execution_count": 31,
   "id": "fd3e7aa8",
   "metadata": {},
   "outputs": [
    {
     "data": {
      "text/html": [
       "<div>\n",
       "<style scoped>\n",
       "    .dataframe tbody tr th:only-of-type {\n",
       "        vertical-align: middle;\n",
       "    }\n",
       "\n",
       "    .dataframe tbody tr th {\n",
       "        vertical-align: top;\n",
       "    }\n",
       "\n",
       "    .dataframe thead th {\n",
       "        text-align: right;\n",
       "    }\n",
       "</style>\n",
       "<table border=\"1\" class=\"dataframe\">\n",
       "  <thead>\n",
       "    <tr style=\"text-align: right;\">\n",
       "      <th></th>\n",
       "      <th>Availability</th>\n",
       "      <th>Return/Exchange</th>\n",
       "      <th>Delivery</th>\n",
       "    </tr>\n",
       "  </thead>\n",
       "  <tbody>\n",
       "    <tr>\n",
       "      <th>0</th>\n",
       "      <td>-</td>\n",
       "      <td>-</td>\n",
       "      <td>-</td>\n",
       "    </tr>\n",
       "  </tbody>\n",
       "</table>\n",
       "</div>"
      ],
      "text/plain": [
       "  Availability Return/Exchange Delivery\n",
       "0            -               -        -"
      ]
     },
     "execution_count": 31,
     "metadata": {},
     "output_type": "execute_result"
    }
   ],
   "source": [
    "que2=pd.DataFrame({'Availability':availiablity,'Return/Exchange':exchange,'Delivery':delivery})\n",
    "que2"
   ]
  },
  {
   "cell_type": "code",
   "execution_count": 32,
   "id": "f5df3b4e",
   "metadata": {},
   "outputs": [],
   "source": [
    "# Question no:- 3\n",
    "\n",
    "url='https://images.google.com/'\n",
    "driver.get(url)"
   ]
  },
  {
   "cell_type": "code",
   "execution_count": 33,
   "id": "0ba549ea",
   "metadata": {},
   "outputs": [
    {
     "name": "stdout",
     "output_type": "stream",
     "text": [
      "Enter the Keyword: Fruit\n"
     ]
    }
   ],
   "source": [
    "bar=driver.find_element(By.XPATH,'//input[@class=\"gLFyf\"]')\n",
    "se=input('Enter the Keyword: ')\n",
    "bar.send_keys(se)"
   ]
  },
  {
   "cell_type": "code",
   "execution_count": 35,
   "id": "cdb7f669",
   "metadata": {},
   "outputs": [],
   "source": [
    "search_button = driver.find_element(By.XPATH, '//span[@class=\"z1asCe MZy1Rb\"]')\n",
    "search_button.click()"
   ]
  },
  {
   "cell_type": "code",
   "execution_count": 36,
   "id": "26738882",
   "metadata": {},
   "outputs": [],
   "source": [
    "page_url = []\n",
    "url = driver.find_elements(By.XPATH, '//img[@class=\"rg_i Q4LuWd\"]')\n",
    "for i in url:\n",
    "    page_url.append(i.get_attribute('src'))\n",
    "page_url=page_url[:10]\n",
    "for i in page_url:\n",
    "    driver.get(i)"
   ]
  },
  {
   "cell_type": "code",
   "execution_count": 37,
   "id": "579fea8d",
   "metadata": {},
   "outputs": [
    {
     "data": {
      "text/plain": [
       "10"
      ]
     },
     "execution_count": 37,
     "metadata": {},
     "output_type": "execute_result"
    }
   ],
   "source": [
    "len(page_url)"
   ]
  },
  {
   "cell_type": "code",
   "execution_count": 38,
   "id": "e58bb298",
   "metadata": {},
   "outputs": [
    {
     "data": {
      "text/html": [
       "<div>\n",
       "<style scoped>\n",
       "    .dataframe tbody tr th:only-of-type {\n",
       "        vertical-align: middle;\n",
       "    }\n",
       "\n",
       "    .dataframe tbody tr th {\n",
       "        vertical-align: top;\n",
       "    }\n",
       "\n",
       "    .dataframe thead th {\n",
       "        text-align: right;\n",
       "    }\n",
       "</style>\n",
       "<table border=\"1\" class=\"dataframe\">\n",
       "  <thead>\n",
       "    <tr style=\"text-align: right;\">\n",
       "      <th></th>\n",
       "      <th>url</th>\n",
       "    </tr>\n",
       "  </thead>\n",
       "  <tbody>\n",
       "    <tr>\n",
       "      <th>0</th>\n",
       "      <td>data:image/jpeg;base64,/9j/4AAQSkZJRgABAQAAAQA...</td>\n",
       "    </tr>\n",
       "    <tr>\n",
       "      <th>1</th>\n",
       "      <td>data:image/jpeg;base64,/9j/4AAQSkZJRgABAQAAAQA...</td>\n",
       "    </tr>\n",
       "    <tr>\n",
       "      <th>2</th>\n",
       "      <td>data:image/png;base64,iVBORw0KGgoAAAANSUhEUgAA...</td>\n",
       "    </tr>\n",
       "    <tr>\n",
       "      <th>3</th>\n",
       "      <td>data:image/jpeg;base64,/9j/4AAQSkZJRgABAQAAAQA...</td>\n",
       "    </tr>\n",
       "    <tr>\n",
       "      <th>4</th>\n",
       "      <td>data:image/jpeg;base64,/9j/4AAQSkZJRgABAQAAAQA...</td>\n",
       "    </tr>\n",
       "    <tr>\n",
       "      <th>5</th>\n",
       "      <td>data:image/jpeg;base64,/9j/4AAQSkZJRgABAQAAAQA...</td>\n",
       "    </tr>\n",
       "    <tr>\n",
       "      <th>6</th>\n",
       "      <td>data:image/jpeg;base64,/9j/4AAQSkZJRgABAQAAAQA...</td>\n",
       "    </tr>\n",
       "    <tr>\n",
       "      <th>7</th>\n",
       "      <td>data:image/jpeg;base64,/9j/4AAQSkZJRgABAQAAAQA...</td>\n",
       "    </tr>\n",
       "    <tr>\n",
       "      <th>8</th>\n",
       "      <td>data:image/jpeg;base64,/9j/4AAQSkZJRgABAQAAAQA...</td>\n",
       "    </tr>\n",
       "    <tr>\n",
       "      <th>9</th>\n",
       "      <td>data:image/jpeg;base64,/9j/4AAQSkZJRgABAQAAAQA...</td>\n",
       "    </tr>\n",
       "  </tbody>\n",
       "</table>\n",
       "</div>"
      ],
      "text/plain": [
       "                                                 url\n",
       "0  data:image/jpeg;base64,/9j/4AAQSkZJRgABAQAAAQA...\n",
       "1  data:image/jpeg;base64,/9j/4AAQSkZJRgABAQAAAQA...\n",
       "2  data:image/png;base64,iVBORw0KGgoAAAANSUhEUgAA...\n",
       "3  data:image/jpeg;base64,/9j/4AAQSkZJRgABAQAAAQA...\n",
       "4  data:image/jpeg;base64,/9j/4AAQSkZJRgABAQAAAQA...\n",
       "5  data:image/jpeg;base64,/9j/4AAQSkZJRgABAQAAAQA...\n",
       "6  data:image/jpeg;base64,/9j/4AAQSkZJRgABAQAAAQA...\n",
       "7  data:image/jpeg;base64,/9j/4AAQSkZJRgABAQAAAQA...\n",
       "8  data:image/jpeg;base64,/9j/4AAQSkZJRgABAQAAAQA...\n",
       "9  data:image/jpeg;base64,/9j/4AAQSkZJRgABAQAAAQA..."
      ]
     },
     "execution_count": 38,
     "metadata": {},
     "output_type": "execute_result"
    }
   ],
   "source": [
    "# Images of fruits.\n",
    "\n",
    "df=pd.DataFrame({'url':page_url})\n",
    "df"
   ]
  },
  {
   "cell_type": "code",
   "execution_count": 39,
   "id": "867efed8",
   "metadata": {},
   "outputs": [],
   "source": [
    "driver.close()"
   ]
  },
  {
   "cell_type": "code",
   "execution_count": 40,
   "id": "8e8f1074",
   "metadata": {},
   "outputs": [],
   "source": [
    "driver = webdriver.Chrome(r\"chromedriver.exe\")\n",
    "url='https://images.google.com/'\n",
    "driver.get(url)"
   ]
  },
  {
   "cell_type": "code",
   "execution_count": 41,
   "id": "e172a1b8",
   "metadata": {},
   "outputs": [
    {
     "name": "stdout",
     "output_type": "stream",
     "text": [
      "Enter the Keyword: Cars\n"
     ]
    }
   ],
   "source": [
    "bar=driver.find_element(By.XPATH,'//input[@class=\"gLFyf\"]')\n",
    "se=input('Enter the Keyword: ')\n",
    "bar.send_keys(se)"
   ]
  },
  {
   "cell_type": "code",
   "execution_count": 42,
   "id": "1c6d2d82",
   "metadata": {},
   "outputs": [],
   "source": [
    "search_button = driver.find_element(By.XPATH, '//span[@class=\"z1asCe MZy1Rb\"]')\n",
    "search_button.click()"
   ]
  },
  {
   "cell_type": "code",
   "execution_count": 43,
   "id": "a62c865a",
   "metadata": {},
   "outputs": [],
   "source": [
    "page_url = []\n",
    "url = driver.find_elements(By.XPATH, '//img[@class=\"rg_i Q4LuWd\"]')\n",
    "for i in url:\n",
    "    page_url.append(i.get_attribute('src'))\n",
    "page_url=page_url[:10]\n",
    "for i in page_url:\n",
    "    driver.get(i)"
   ]
  },
  {
   "cell_type": "code",
   "execution_count": 44,
   "id": "5bafa166",
   "metadata": {},
   "outputs": [
    {
     "data": {
      "text/plain": [
       "10"
      ]
     },
     "execution_count": 44,
     "metadata": {},
     "output_type": "execute_result"
    }
   ],
   "source": [
    "len(page_url)"
   ]
  },
  {
   "cell_type": "code",
   "execution_count": 45,
   "id": "ef649a41",
   "metadata": {},
   "outputs": [
    {
     "data": {
      "text/html": [
       "<div>\n",
       "<style scoped>\n",
       "    .dataframe tbody tr th:only-of-type {\n",
       "        vertical-align: middle;\n",
       "    }\n",
       "\n",
       "    .dataframe tbody tr th {\n",
       "        vertical-align: top;\n",
       "    }\n",
       "\n",
       "    .dataframe thead th {\n",
       "        text-align: right;\n",
       "    }\n",
       "</style>\n",
       "<table border=\"1\" class=\"dataframe\">\n",
       "  <thead>\n",
       "    <tr style=\"text-align: right;\">\n",
       "      <th></th>\n",
       "      <th>url</th>\n",
       "    </tr>\n",
       "  </thead>\n",
       "  <tbody>\n",
       "    <tr>\n",
       "      <th>0</th>\n",
       "      <td>data:image/jpeg;base64,/9j/4AAQSkZJRgABAQAAAQA...</td>\n",
       "    </tr>\n",
       "    <tr>\n",
       "      <th>1</th>\n",
       "      <td>data:image/jpeg;base64,/9j/4AAQSkZJRgABAQAAAQA...</td>\n",
       "    </tr>\n",
       "    <tr>\n",
       "      <th>2</th>\n",
       "      <td>data:image/jpeg;base64,/9j/4AAQSkZJRgABAQAAAQA...</td>\n",
       "    </tr>\n",
       "    <tr>\n",
       "      <th>3</th>\n",
       "      <td>data:image/jpeg;base64,/9j/4AAQSkZJRgABAQAAAQA...</td>\n",
       "    </tr>\n",
       "    <tr>\n",
       "      <th>4</th>\n",
       "      <td>data:image/jpeg;base64,/9j/4AAQSkZJRgABAQAAAQA...</td>\n",
       "    </tr>\n",
       "    <tr>\n",
       "      <th>5</th>\n",
       "      <td>data:image/jpeg;base64,/9j/4AAQSkZJRgABAQAAAQA...</td>\n",
       "    </tr>\n",
       "    <tr>\n",
       "      <th>6</th>\n",
       "      <td>data:image/jpeg;base64,/9j/4AAQSkZJRgABAQAAAQA...</td>\n",
       "    </tr>\n",
       "    <tr>\n",
       "      <th>7</th>\n",
       "      <td>data:image/jpeg;base64,/9j/4AAQSkZJRgABAQAAAQA...</td>\n",
       "    </tr>\n",
       "    <tr>\n",
       "      <th>8</th>\n",
       "      <td>data:image/jpeg;base64,/9j/4AAQSkZJRgABAQAAAQA...</td>\n",
       "    </tr>\n",
       "    <tr>\n",
       "      <th>9</th>\n",
       "      <td>data:image/jpeg;base64,/9j/4AAQSkZJRgABAQAAAQA...</td>\n",
       "    </tr>\n",
       "  </tbody>\n",
       "</table>\n",
       "</div>"
      ],
      "text/plain": [
       "                                                 url\n",
       "0  data:image/jpeg;base64,/9j/4AAQSkZJRgABAQAAAQA...\n",
       "1  data:image/jpeg;base64,/9j/4AAQSkZJRgABAQAAAQA...\n",
       "2  data:image/jpeg;base64,/9j/4AAQSkZJRgABAQAAAQA...\n",
       "3  data:image/jpeg;base64,/9j/4AAQSkZJRgABAQAAAQA...\n",
       "4  data:image/jpeg;base64,/9j/4AAQSkZJRgABAQAAAQA...\n",
       "5  data:image/jpeg;base64,/9j/4AAQSkZJRgABAQAAAQA...\n",
       "6  data:image/jpeg;base64,/9j/4AAQSkZJRgABAQAAAQA...\n",
       "7  data:image/jpeg;base64,/9j/4AAQSkZJRgABAQAAAQA...\n",
       "8  data:image/jpeg;base64,/9j/4AAQSkZJRgABAQAAAQA...\n",
       "9  data:image/jpeg;base64,/9j/4AAQSkZJRgABAQAAAQA..."
      ]
     },
     "execution_count": 45,
     "metadata": {},
     "output_type": "execute_result"
    }
   ],
   "source": [
    "# Images of cars.\n",
    "\n",
    "df=pd.DataFrame({'url':page_url})\n",
    "df"
   ]
  },
  {
   "cell_type": "code",
   "execution_count": 46,
   "id": "a9c99faf",
   "metadata": {},
   "outputs": [],
   "source": [
    "driver.close()"
   ]
  },
  {
   "cell_type": "code",
   "execution_count": 47,
   "id": "4aca38b9",
   "metadata": {},
   "outputs": [
    {
     "name": "stdout",
     "output_type": "stream",
     "text": [
      "Enter the Keyword: Machine Learning\n"
     ]
    }
   ],
   "source": [
    "driver = webdriver.Chrome(r\"chromedriver.exe\")\n",
    "url='https://images.google.com/'\n",
    "driver.get(url)\n",
    "bar=driver.find_element(By.XPATH,'//input[@class=\"gLFyf\"]')\n",
    "se=input('Enter the Keyword: ')\n",
    "bar.send_keys(se)"
   ]
  },
  {
   "cell_type": "code",
   "execution_count": 48,
   "id": "a1f91135",
   "metadata": {},
   "outputs": [],
   "source": [
    "search_button = driver.find_element(By.XPATH, '//span[@class=\"z1asCe MZy1Rb\"]')\n",
    "search_button.click()"
   ]
  },
  {
   "cell_type": "code",
   "execution_count": 49,
   "id": "361d5adb",
   "metadata": {},
   "outputs": [
    {
     "data": {
      "text/html": [
       "<div>\n",
       "<style scoped>\n",
       "    .dataframe tbody tr th:only-of-type {\n",
       "        vertical-align: middle;\n",
       "    }\n",
       "\n",
       "    .dataframe tbody tr th {\n",
       "        vertical-align: top;\n",
       "    }\n",
       "\n",
       "    .dataframe thead th {\n",
       "        text-align: right;\n",
       "    }\n",
       "</style>\n",
       "<table border=\"1\" class=\"dataframe\">\n",
       "  <thead>\n",
       "    <tr style=\"text-align: right;\">\n",
       "      <th></th>\n",
       "      <th>url</th>\n",
       "    </tr>\n",
       "  </thead>\n",
       "  <tbody>\n",
       "    <tr>\n",
       "      <th>0</th>\n",
       "      <td>data:image/jpeg;base64,/9j/4AAQSkZJRgABAQAAAQA...</td>\n",
       "    </tr>\n",
       "    <tr>\n",
       "      <th>1</th>\n",
       "      <td>data:image/jpeg;base64,/9j/4AAQSkZJRgABAQAAAQA...</td>\n",
       "    </tr>\n",
       "    <tr>\n",
       "      <th>2</th>\n",
       "      <td>data:image/jpeg;base64,/9j/4AAQSkZJRgABAQAAAQA...</td>\n",
       "    </tr>\n",
       "    <tr>\n",
       "      <th>3</th>\n",
       "      <td>data:image/png;base64,iVBORw0KGgoAAAANSUhEUgAA...</td>\n",
       "    </tr>\n",
       "    <tr>\n",
       "      <th>4</th>\n",
       "      <td>data:image/jpeg;base64,/9j/4AAQSkZJRgABAQAAAQA...</td>\n",
       "    </tr>\n",
       "    <tr>\n",
       "      <th>5</th>\n",
       "      <td>data:image/jpeg;base64,/9j/4AAQSkZJRgABAQAAAQA...</td>\n",
       "    </tr>\n",
       "    <tr>\n",
       "      <th>6</th>\n",
       "      <td>data:image/jpeg;base64,/9j/4AAQSkZJRgABAQAAAQA...</td>\n",
       "    </tr>\n",
       "    <tr>\n",
       "      <th>7</th>\n",
       "      <td>data:image/jpeg;base64,/9j/4AAQSkZJRgABAQAAAQA...</td>\n",
       "    </tr>\n",
       "    <tr>\n",
       "      <th>8</th>\n",
       "      <td>data:image/png;base64,iVBORw0KGgoAAAANSUhEUgAA...</td>\n",
       "    </tr>\n",
       "    <tr>\n",
       "      <th>9</th>\n",
       "      <td>data:image/jpeg;base64,/9j/4AAQSkZJRgABAQAAAQA...</td>\n",
       "    </tr>\n",
       "  </tbody>\n",
       "</table>\n",
       "</div>"
      ],
      "text/plain": [
       "                                                 url\n",
       "0  data:image/jpeg;base64,/9j/4AAQSkZJRgABAQAAAQA...\n",
       "1  data:image/jpeg;base64,/9j/4AAQSkZJRgABAQAAAQA...\n",
       "2  data:image/jpeg;base64,/9j/4AAQSkZJRgABAQAAAQA...\n",
       "3  data:image/png;base64,iVBORw0KGgoAAAANSUhEUgAA...\n",
       "4  data:image/jpeg;base64,/9j/4AAQSkZJRgABAQAAAQA...\n",
       "5  data:image/jpeg;base64,/9j/4AAQSkZJRgABAQAAAQA...\n",
       "6  data:image/jpeg;base64,/9j/4AAQSkZJRgABAQAAAQA...\n",
       "7  data:image/jpeg;base64,/9j/4AAQSkZJRgABAQAAAQA...\n",
       "8  data:image/png;base64,iVBORw0KGgoAAAANSUhEUgAA...\n",
       "9  data:image/jpeg;base64,/9j/4AAQSkZJRgABAQAAAQA..."
      ]
     },
     "execution_count": 49,
     "metadata": {},
     "output_type": "execute_result"
    }
   ],
   "source": [
    "# Images of Machine learning.\n",
    "\n",
    "page_url = []\n",
    "url = driver.find_elements(By.XPATH, '//img[@class=\"rg_i Q4LuWd\"]')\n",
    "for i in url:\n",
    "    page_url.append(i.get_attribute('src'))\n",
    "page_url=page_url[:10]\n",
    "for i in page_url:\n",
    "    driver.get(i)\n",
    "    \n",
    "len(page_url)\n",
    "\n",
    "df3=pd.DataFrame({'url':page_url})\n",
    "df3"
   ]
  },
  {
   "cell_type": "code",
   "execution_count": 50,
   "id": "7d6597e9",
   "metadata": {},
   "outputs": [],
   "source": [
    "driver.close()"
   ]
  },
  {
   "cell_type": "code",
   "execution_count": 51,
   "id": "60c2f24c",
   "metadata": {},
   "outputs": [],
   "source": [
    "driver = webdriver.Chrome(r\"chromedriver.exe\")\n",
    "url='https://images.google.com/'\n",
    "driver.get(url)"
   ]
  },
  {
   "cell_type": "code",
   "execution_count": 52,
   "id": "6666eee0",
   "metadata": {},
   "outputs": [
    {
     "name": "stdout",
     "output_type": "stream",
     "text": [
      "Enter the Keyword: Guitar\n"
     ]
    }
   ],
   "source": [
    "bar=driver.find_element(By.XPATH,'//input[@class=\"gLFyf\"]')\n",
    "se=input('Enter the Keyword: ')\n",
    "bar.send_keys(se)"
   ]
  },
  {
   "cell_type": "code",
   "execution_count": 53,
   "id": "45818d2f",
   "metadata": {},
   "outputs": [],
   "source": [
    "search_button = driver.find_element(By.XPATH, '//span[@class=\"z1asCe MZy1Rb\"]')\n",
    "search_button.click()"
   ]
  },
  {
   "cell_type": "code",
   "execution_count": 54,
   "id": "4e16aa5d",
   "metadata": {},
   "outputs": [
    {
     "data": {
      "text/html": [
       "<div>\n",
       "<style scoped>\n",
       "    .dataframe tbody tr th:only-of-type {\n",
       "        vertical-align: middle;\n",
       "    }\n",
       "\n",
       "    .dataframe tbody tr th {\n",
       "        vertical-align: top;\n",
       "    }\n",
       "\n",
       "    .dataframe thead th {\n",
       "        text-align: right;\n",
       "    }\n",
       "</style>\n",
       "<table border=\"1\" class=\"dataframe\">\n",
       "  <thead>\n",
       "    <tr style=\"text-align: right;\">\n",
       "      <th></th>\n",
       "      <th>url</th>\n",
       "    </tr>\n",
       "  </thead>\n",
       "  <tbody>\n",
       "    <tr>\n",
       "      <th>0</th>\n",
       "      <td>data:image/jpeg;base64,/9j/4AAQSkZJRgABAQAAAQA...</td>\n",
       "    </tr>\n",
       "    <tr>\n",
       "      <th>1</th>\n",
       "      <td>data:image/jpeg;base64,/9j/4AAQSkZJRgABAQAAAQA...</td>\n",
       "    </tr>\n",
       "    <tr>\n",
       "      <th>2</th>\n",
       "      <td>data:image/jpeg;base64,/9j/4AAQSkZJRgABAQAAAQA...</td>\n",
       "    </tr>\n",
       "    <tr>\n",
       "      <th>3</th>\n",
       "      <td>data:image/jpeg;base64,/9j/4AAQSkZJRgABAQAAAQA...</td>\n",
       "    </tr>\n",
       "    <tr>\n",
       "      <th>4</th>\n",
       "      <td>data:image/jpeg;base64,/9j/4AAQSkZJRgABAQAAAQA...</td>\n",
       "    </tr>\n",
       "    <tr>\n",
       "      <th>5</th>\n",
       "      <td>data:image/jpeg;base64,/9j/4AAQSkZJRgABAQAAAQA...</td>\n",
       "    </tr>\n",
       "    <tr>\n",
       "      <th>6</th>\n",
       "      <td>data:image/jpeg;base64,/9j/4AAQSkZJRgABAQAAAQA...</td>\n",
       "    </tr>\n",
       "    <tr>\n",
       "      <th>7</th>\n",
       "      <td>data:image/jpeg;base64,/9j/4AAQSkZJRgABAQAAAQA...</td>\n",
       "    </tr>\n",
       "    <tr>\n",
       "      <th>8</th>\n",
       "      <td>data:image/jpeg;base64,/9j/4AAQSkZJRgABAQAAAQA...</td>\n",
       "    </tr>\n",
       "    <tr>\n",
       "      <th>9</th>\n",
       "      <td>data:image/jpeg;base64,/9j/4AAQSkZJRgABAQAAAQA...</td>\n",
       "    </tr>\n",
       "  </tbody>\n",
       "</table>\n",
       "</div>"
      ],
      "text/plain": [
       "                                                 url\n",
       "0  data:image/jpeg;base64,/9j/4AAQSkZJRgABAQAAAQA...\n",
       "1  data:image/jpeg;base64,/9j/4AAQSkZJRgABAQAAAQA...\n",
       "2  data:image/jpeg;base64,/9j/4AAQSkZJRgABAQAAAQA...\n",
       "3  data:image/jpeg;base64,/9j/4AAQSkZJRgABAQAAAQA...\n",
       "4  data:image/jpeg;base64,/9j/4AAQSkZJRgABAQAAAQA...\n",
       "5  data:image/jpeg;base64,/9j/4AAQSkZJRgABAQAAAQA...\n",
       "6  data:image/jpeg;base64,/9j/4AAQSkZJRgABAQAAAQA...\n",
       "7  data:image/jpeg;base64,/9j/4AAQSkZJRgABAQAAAQA...\n",
       "8  data:image/jpeg;base64,/9j/4AAQSkZJRgABAQAAAQA...\n",
       "9  data:image/jpeg;base64,/9j/4AAQSkZJRgABAQAAAQA..."
      ]
     },
     "execution_count": 54,
     "metadata": {},
     "output_type": "execute_result"
    }
   ],
   "source": [
    "# Images of guitar.\n",
    "\n",
    "page_url = []\n",
    "url = driver.find_elements(By.XPATH, '//img[@class=\"rg_i Q4LuWd\"]')\n",
    "for i in url:\n",
    "    page_url.append(i.get_attribute('src'))\n",
    "page_url=page_url[:10]\n",
    "for i in page_url:\n",
    "    driver.get(i)\n",
    "    \n",
    "len(page_url)\n",
    "\n",
    "df4=pd.DataFrame({'url':page_url})\n",
    "df4"
   ]
  },
  {
   "cell_type": "code",
   "execution_count": 55,
   "id": "e6887c4e",
   "metadata": {},
   "outputs": [],
   "source": [
    "driver.close()"
   ]
  },
  {
   "cell_type": "code",
   "execution_count": 56,
   "id": "91c0f2e4",
   "metadata": {},
   "outputs": [],
   "source": [
    "driver = webdriver.Chrome(r\"chromedriver.exe\")\n",
    "url='https://images.google.com/'\n",
    "driver.get(url)"
   ]
  },
  {
   "cell_type": "code",
   "execution_count": 57,
   "id": "be0bfa3b",
   "metadata": {},
   "outputs": [
    {
     "name": "stdout",
     "output_type": "stream",
     "text": [
      "Enter the Keyword: Cakes\n"
     ]
    }
   ],
   "source": [
    "bar=driver.find_element(By.XPATH,'//input[@class=\"gLFyf\"]')\n",
    "se=input('Enter the Keyword: ')\n",
    "bar.send_keys(se)"
   ]
  },
  {
   "cell_type": "code",
   "execution_count": 58,
   "id": "7d78cbd9",
   "metadata": {},
   "outputs": [],
   "source": [
    "search_button = driver.find_element(By.XPATH, '//span[@class=\"z1asCe MZy1Rb\"]')\n",
    "search_button.click()"
   ]
  },
  {
   "cell_type": "code",
   "execution_count": 59,
   "id": "59d6db12",
   "metadata": {},
   "outputs": [],
   "source": [
    "page_url = []\n",
    "url = driver.find_elements(By.XPATH, '//img[@class=\"rg_i Q4LuWd\"]')\n",
    "for i in url:\n",
    "    page_url.append(i.get_attribute('src'))\n",
    "page_url=page_url[:10]\n",
    "for i in page_url:\n",
    "    driver.get(i)"
   ]
  },
  {
   "cell_type": "code",
   "execution_count": 60,
   "id": "b44c8f99",
   "metadata": {},
   "outputs": [
    {
     "data": {
      "text/plain": [
       "10"
      ]
     },
     "execution_count": 60,
     "metadata": {},
     "output_type": "execute_result"
    }
   ],
   "source": [
    "len(page_url)"
   ]
  },
  {
   "cell_type": "code",
   "execution_count": 61,
   "id": "17b36adc",
   "metadata": {},
   "outputs": [
    {
     "data": {
      "text/html": [
       "<div>\n",
       "<style scoped>\n",
       "    .dataframe tbody tr th:only-of-type {\n",
       "        vertical-align: middle;\n",
       "    }\n",
       "\n",
       "    .dataframe tbody tr th {\n",
       "        vertical-align: top;\n",
       "    }\n",
       "\n",
       "    .dataframe thead th {\n",
       "        text-align: right;\n",
       "    }\n",
       "</style>\n",
       "<table border=\"1\" class=\"dataframe\">\n",
       "  <thead>\n",
       "    <tr style=\"text-align: right;\">\n",
       "      <th></th>\n",
       "      <th>url</th>\n",
       "    </tr>\n",
       "  </thead>\n",
       "  <tbody>\n",
       "    <tr>\n",
       "      <th>0</th>\n",
       "      <td>data:image/jpeg;base64,/9j/4AAQSkZJRgABAQAAAQA...</td>\n",
       "    </tr>\n",
       "    <tr>\n",
       "      <th>1</th>\n",
       "      <td>data:image/jpeg;base64,/9j/4AAQSkZJRgABAQAAAQA...</td>\n",
       "    </tr>\n",
       "    <tr>\n",
       "      <th>2</th>\n",
       "      <td>data:image/jpeg;base64,/9j/4AAQSkZJRgABAQAAAQA...</td>\n",
       "    </tr>\n",
       "    <tr>\n",
       "      <th>3</th>\n",
       "      <td>data:image/jpeg;base64,/9j/4AAQSkZJRgABAQAAAQA...</td>\n",
       "    </tr>\n",
       "    <tr>\n",
       "      <th>4</th>\n",
       "      <td>data:image/jpeg;base64,/9j/4AAQSkZJRgABAQAAAQA...</td>\n",
       "    </tr>\n",
       "    <tr>\n",
       "      <th>5</th>\n",
       "      <td>data:image/jpeg;base64,/9j/4AAQSkZJRgABAQAAAQA...</td>\n",
       "    </tr>\n",
       "    <tr>\n",
       "      <th>6</th>\n",
       "      <td>data:image/jpeg;base64,/9j/4AAQSkZJRgABAQAAAQA...</td>\n",
       "    </tr>\n",
       "    <tr>\n",
       "      <th>7</th>\n",
       "      <td>data:image/jpeg;base64,/9j/4AAQSkZJRgABAQAAAQA...</td>\n",
       "    </tr>\n",
       "    <tr>\n",
       "      <th>8</th>\n",
       "      <td>data:image/jpeg;base64,/9j/4AAQSkZJRgABAQAAAQA...</td>\n",
       "    </tr>\n",
       "    <tr>\n",
       "      <th>9</th>\n",
       "      <td>data:image/jpeg;base64,/9j/4AAQSkZJRgABAQAAAQA...</td>\n",
       "    </tr>\n",
       "  </tbody>\n",
       "</table>\n",
       "</div>"
      ],
      "text/plain": [
       "                                                 url\n",
       "0  data:image/jpeg;base64,/9j/4AAQSkZJRgABAQAAAQA...\n",
       "1  data:image/jpeg;base64,/9j/4AAQSkZJRgABAQAAAQA...\n",
       "2  data:image/jpeg;base64,/9j/4AAQSkZJRgABAQAAAQA...\n",
       "3  data:image/jpeg;base64,/9j/4AAQSkZJRgABAQAAAQA...\n",
       "4  data:image/jpeg;base64,/9j/4AAQSkZJRgABAQAAAQA...\n",
       "5  data:image/jpeg;base64,/9j/4AAQSkZJRgABAQAAAQA...\n",
       "6  data:image/jpeg;base64,/9j/4AAQSkZJRgABAQAAAQA...\n",
       "7  data:image/jpeg;base64,/9j/4AAQSkZJRgABAQAAAQA...\n",
       "8  data:image/jpeg;base64,/9j/4AAQSkZJRgABAQAAAQA...\n",
       "9  data:image/jpeg;base64,/9j/4AAQSkZJRgABAQAAAQA..."
      ]
     },
     "execution_count": 61,
     "metadata": {},
     "output_type": "execute_result"
    }
   ],
   "source": [
    "# Images of cakes.\n",
    "\n",
    "df5=pd.DataFrame({'url':page_url})\n",
    "df5"
   ]
  },
  {
   "cell_type": "code",
   "execution_count": 62,
   "id": "3e0a49ab",
   "metadata": {},
   "outputs": [],
   "source": [
    "driver.close()"
   ]
  },
  {
   "cell_type": "code",
   "execution_count": 63,
   "id": "343a719f",
   "metadata": {},
   "outputs": [],
   "source": [
    "driver = webdriver.Chrome(r\"chromedriver.exe\")"
   ]
  },
  {
   "cell_type": "code",
   "execution_count": 64,
   "id": "2de6949f",
   "metadata": {},
   "outputs": [],
   "source": [
    "time.sleep(3)"
   ]
  },
  {
   "cell_type": "code",
   "execution_count": 65,
   "id": "f0a60887",
   "metadata": {},
   "outputs": [],
   "source": [
    "# Question No:- 4\n",
    "\n",
    "url='https://www.flipkart.com'\n",
    "driver.get(url)\n",
    "time.sleep(5)"
   ]
  },
  {
   "cell_type": "code",
   "execution_count": 66,
   "id": "020ca0b1",
   "metadata": {},
   "outputs": [],
   "source": [
    "try:\n",
    "    driver.find_element(By.XPATH,'//button[@class=\"_2KpZ6l _2doB4z\"]').click()\n",
    "except Exception:\n",
    "    pass"
   ]
  },
  {
   "cell_type": "code",
   "execution_count": 67,
   "id": "00eb1ed8",
   "metadata": {},
   "outputs": [],
   "source": [
    "driver.find_element(By.XPATH, '//input[@class=\"_3704LK\"]').send_keys('pixel 4A')\n",
    "time.sleep(3)"
   ]
  },
  {
   "cell_type": "code",
   "execution_count": 68,
   "id": "800f206a",
   "metadata": {},
   "outputs": [],
   "source": [
    "driver.find_element(By.XPATH, '//button[@class=\"L0Z3Pu\"]').click()"
   ]
  },
  {
   "cell_type": "code",
   "execution_count": 69,
   "id": "415369df",
   "metadata": {},
   "outputs": [],
   "source": [
    "product_urls=[]\n",
    "url=driver.find_elements(By.XPATH, '//a[@class=\"_1fQZEK\"]')\n",
    "for i in url:\n",
    "    product_urls.append(i.get_attribute('href'))"
   ]
  },
  {
   "cell_type": "code",
   "execution_count": 70,
   "id": "d651cd65",
   "metadata": {},
   "outputs": [
    {
     "data": {
      "text/plain": [
       "24"
      ]
     },
     "execution_count": 70,
     "metadata": {},
     "output_type": "execute_result"
    }
   ],
   "source": [
    "len(product_urls)"
   ]
  },
  {
   "cell_type": "code",
   "execution_count": 71,
   "id": "c0a83f78",
   "metadata": {},
   "outputs": [],
   "source": [
    "brand=[]\n",
    "name=[]\n",
    "color=[]\n",
    "ram=[]\n",
    "rom=[]\n",
    "primary_cam=[]\n",
    "secondary_cam=[]\n",
    "display=[]\n",
    "battery=[]\n",
    "price=[]"
   ]
  },
  {
   "cell_type": "code",
   "execution_count": 72,
   "id": "38e6f774",
   "metadata": {},
   "outputs": [],
   "source": [
    "for i in product_urls:\n",
    "    driver.get(i)\n",
    "    driver.find_element(By.XPATH, '//button[@class=\"_2KpZ6l _1FH0tX\"]').click()\n",
    "    \n",
    "    for i in driver.find_elements(By.XPATH, '//span[@class=\"B_NuCI\"]'):\n",
    "        brand.append(i.text.split(\" \",1)[0])\n",
    "        \n",
    "    for i in driver.find_elements(By.XPATH, '//div[@class=\"_4rR01T\"]'):\n",
    "        name.append(i.text.split(\"(\")[0])\n",
    "    \n",
    "    for i in driver.find_elements(By.XPATH, '//table[@class=\"_14cfVK\"]//tbody/tr[4]//td[2]'):\n",
    "        if i.text is None:\n",
    "            color.append('--')\n",
    "        else:\n",
    "            color.append(i.text.split(\"Yes\"))\n",
    "            \n",
    "    try:\n",
    "        ram.append(driver.find_elements(By.XPATH, '//div[@class=\"_2cM9lP\"]//div[@class=\"_2418kt\"]//ul//li[1]').text.split(\"|\")[0])\n",
    "    except:\n",
    "        ram.append('-')\n",
    "    try:\n",
    "        rom.append(driver.find_elements(By.XPATH, '//div[@class=\"_2cM9lP\"]//div[@class=\"_2418kt\"]//ul//li[1]').text.split(\"|\")[1])\n",
    "    except:\n",
    "        rom.append('-')\n",
    "    try:\n",
    "        primary_cam.append(driver.find_elements(By.XPATH, '/html/body/div[1]/div/div[3]/div[1]/div[2]/div[6]/div[1]/div/div[2]/ul/li[3]').text.split(\"|\")[0])\n",
    "    except:\n",
    "        primary_cam.append('-')\n",
    "    try:\n",
    "        secondary_cam.append(driver.find_elements(By.XPATH, '/html/body/div[1]/div/div[3]/div[1]/div[2]/div[6]/div[1]/div/div[2]/ul/li[3]').text.split(\"|\")[1])\n",
    "    except:\n",
    "        secondary_cam.append('-')\n",
    "    try:\n",
    "        display.append(driver.find_elements(By.XPATH, '/html/body/div[1]/div/div[3]/div[1]/div[2]/div[6]/div[1]/div/div[2]/ul/li[2]').text)\n",
    "    except:\n",
    "        display.append('-')\n",
    "    try:\n",
    "        battery.append(driver.find_elements(By.XPATH, '/html/body/div[1]/div/div[3]/div[1]/div[2]/div[6]/div[1]/div/div[2]/ul/li[4]').text)\n",
    "    except:\n",
    "        battery.append('-')\n",
    "    for i in driver.find_elements(By.XPATH, '//div[@class=\"_30jeq3 _16Jk6d\"]'):\n",
    "        price.append(i.text)"
   ]
  },
  {
   "cell_type": "code",
   "execution_count": 73,
   "id": "9ae936dd",
   "metadata": {},
   "outputs": [
    {
     "data": {
      "text/plain": [
       "24"
      ]
     },
     "execution_count": 73,
     "metadata": {},
     "output_type": "execute_result"
    }
   ],
   "source": [
    "len(brand)"
   ]
  },
  {
   "cell_type": "code",
   "execution_count": 74,
   "id": "d5722f55",
   "metadata": {},
   "outputs": [
    {
     "data": {
      "text/plain": [
       "0"
      ]
     },
     "execution_count": 74,
     "metadata": {},
     "output_type": "execute_result"
    }
   ],
   "source": [
    "len(name)"
   ]
  },
  {
   "cell_type": "code",
   "execution_count": 75,
   "id": "1dac75fb",
   "metadata": {},
   "outputs": [
    {
     "data": {
      "text/plain": [
       "195"
      ]
     },
     "execution_count": 75,
     "metadata": {},
     "output_type": "execute_result"
    }
   ],
   "source": [
    "len(color)"
   ]
  },
  {
   "cell_type": "code",
   "execution_count": 76,
   "id": "b05fadc1",
   "metadata": {},
   "outputs": [
    {
     "data": {
      "text/plain": [
       "24"
      ]
     },
     "execution_count": 76,
     "metadata": {},
     "output_type": "execute_result"
    }
   ],
   "source": [
    "len(ram)"
   ]
  },
  {
   "cell_type": "code",
   "execution_count": 77,
   "id": "0f0e3a97",
   "metadata": {},
   "outputs": [
    {
     "data": {
      "text/plain": [
       "24"
      ]
     },
     "execution_count": 77,
     "metadata": {},
     "output_type": "execute_result"
    }
   ],
   "source": [
    "len(rom)"
   ]
  },
  {
   "cell_type": "code",
   "execution_count": 78,
   "id": "d100734e",
   "metadata": {},
   "outputs": [
    {
     "data": {
      "text/plain": [
       "24"
      ]
     },
     "execution_count": 78,
     "metadata": {},
     "output_type": "execute_result"
    }
   ],
   "source": [
    "len(primary_cam)"
   ]
  },
  {
   "cell_type": "code",
   "execution_count": 79,
   "id": "85a4e48e",
   "metadata": {},
   "outputs": [
    {
     "data": {
      "text/plain": [
       "24"
      ]
     },
     "execution_count": 79,
     "metadata": {},
     "output_type": "execute_result"
    }
   ],
   "source": [
    "len(secondary_cam)"
   ]
  },
  {
   "cell_type": "code",
   "execution_count": 80,
   "id": "83732a36",
   "metadata": {},
   "outputs": [
    {
     "data": {
      "text/plain": [
       "24"
      ]
     },
     "execution_count": 80,
     "metadata": {},
     "output_type": "execute_result"
    }
   ],
   "source": [
    "len(display)"
   ]
  },
  {
   "cell_type": "code",
   "execution_count": 81,
   "id": "357f87d0",
   "metadata": {},
   "outputs": [
    {
     "data": {
      "text/plain": [
       "24"
      ]
     },
     "execution_count": 81,
     "metadata": {},
     "output_type": "execute_result"
    }
   ],
   "source": [
    "len(battery)"
   ]
  },
  {
   "cell_type": "code",
   "execution_count": 82,
   "id": "9eeba5ae",
   "metadata": {},
   "outputs": [
    {
     "data": {
      "text/plain": [
       "24"
      ]
     },
     "execution_count": 82,
     "metadata": {},
     "output_type": "execute_result"
    }
   ],
   "source": [
    "len(price)"
   ]
  },
  {
   "cell_type": "code",
   "execution_count": 83,
   "id": "1037e4b1",
   "metadata": {},
   "outputs": [
    {
     "data": {
      "text/plain": [
       "['₹31,999',\n",
       " '₹14,499',\n",
       " '₹14,499',\n",
       " '₹15,999',\n",
       " '₹15,999',\n",
       " '₹17,999',\n",
       " '₹5,999',\n",
       " '₹27,999',\n",
       " '₹6,999',\n",
       " '₹6,999',\n",
       " '₹6,999',\n",
       " '₹5,549',\n",
       " '₹5,549',\n",
       " '₹17,999',\n",
       " '₹25,999',\n",
       " '₹8,999',\n",
       " '₹8,999',\n",
       " '₹5,549',\n",
       " '₹9,999',\n",
       " '₹9,999',\n",
       " '₹9,999',\n",
       " '₹5,999',\n",
       " '₹5,999',\n",
       " '₹13,999']"
      ]
     },
     "execution_count": 83,
     "metadata": {},
     "output_type": "execute_result"
    }
   ],
   "source": [
    "price"
   ]
  },
  {
   "cell_type": "code",
   "execution_count": 84,
   "id": "c6ad34df",
   "metadata": {},
   "outputs": [
    {
     "data": {
      "text/plain": [
       "['-',\n",
       " '-',\n",
       " '-',\n",
       " '-',\n",
       " '-',\n",
       " '-',\n",
       " '-',\n",
       " '-',\n",
       " '-',\n",
       " '-',\n",
       " '-',\n",
       " '-',\n",
       " '-',\n",
       " '-',\n",
       " '-',\n",
       " '-',\n",
       " '-',\n",
       " '-',\n",
       " '-',\n",
       " '-',\n",
       " '-',\n",
       " '-',\n",
       " '-',\n",
       " '-']"
      ]
     },
     "execution_count": 84,
     "metadata": {},
     "output_type": "execute_result"
    }
   ],
   "source": [
    "battery"
   ]
  },
  {
   "cell_type": "code",
   "execution_count": 85,
   "id": "5f31b5c2",
   "metadata": {},
   "outputs": [
    {
     "data": {
      "text/plain": [
       "['-',\n",
       " '-',\n",
       " '-',\n",
       " '-',\n",
       " '-',\n",
       " '-',\n",
       " '-',\n",
       " '-',\n",
       " '-',\n",
       " '-',\n",
       " '-',\n",
       " '-',\n",
       " '-',\n",
       " '-',\n",
       " '-',\n",
       " '-',\n",
       " '-',\n",
       " '-',\n",
       " '-',\n",
       " '-',\n",
       " '-',\n",
       " '-',\n",
       " '-',\n",
       " '-']"
      ]
     },
     "execution_count": 85,
     "metadata": {},
     "output_type": "execute_result"
    }
   ],
   "source": [
    "display"
   ]
  },
  {
   "cell_type": "code",
   "execution_count": 86,
   "id": "6e9d736a",
   "metadata": {},
   "outputs": [
    {
     "data": {
      "text/plain": [
       "['-',\n",
       " '-',\n",
       " '-',\n",
       " '-',\n",
       " '-',\n",
       " '-',\n",
       " '-',\n",
       " '-',\n",
       " '-',\n",
       " '-',\n",
       " '-',\n",
       " '-',\n",
       " '-',\n",
       " '-',\n",
       " '-',\n",
       " '-',\n",
       " '-',\n",
       " '-',\n",
       " '-',\n",
       " '-',\n",
       " '-',\n",
       " '-',\n",
       " '-',\n",
       " '-']"
      ]
     },
     "execution_count": 86,
     "metadata": {},
     "output_type": "execute_result"
    }
   ],
   "source": [
    "secondary_cam"
   ]
  },
  {
   "cell_type": "code",
   "execution_count": 87,
   "id": "e9f90f21",
   "metadata": {},
   "outputs": [
    {
     "data": {
      "text/plain": [
       "['-',\n",
       " '-',\n",
       " '-',\n",
       " '-',\n",
       " '-',\n",
       " '-',\n",
       " '-',\n",
       " '-',\n",
       " '-',\n",
       " '-',\n",
       " '-',\n",
       " '-',\n",
       " '-',\n",
       " '-',\n",
       " '-',\n",
       " '-',\n",
       " '-',\n",
       " '-',\n",
       " '-',\n",
       " '-',\n",
       " '-',\n",
       " '-',\n",
       " '-',\n",
       " '-']"
      ]
     },
     "execution_count": 87,
     "metadata": {},
     "output_type": "execute_result"
    }
   ],
   "source": [
    "primary_cam"
   ]
  },
  {
   "cell_type": "code",
   "execution_count": 88,
   "id": "e5f32e15",
   "metadata": {},
   "outputs": [
    {
     "data": {
      "text/plain": [
       "['-',\n",
       " '-',\n",
       " '-',\n",
       " '-',\n",
       " '-',\n",
       " '-',\n",
       " '-',\n",
       " '-',\n",
       " '-',\n",
       " '-',\n",
       " '-',\n",
       " '-',\n",
       " '-',\n",
       " '-',\n",
       " '-',\n",
       " '-',\n",
       " '-',\n",
       " '-',\n",
       " '-',\n",
       " '-',\n",
       " '-',\n",
       " '-',\n",
       " '-',\n",
       " '-']"
      ]
     },
     "execution_count": 88,
     "metadata": {},
     "output_type": "execute_result"
    }
   ],
   "source": [
    "rom"
   ]
  },
  {
   "cell_type": "code",
   "execution_count": 89,
   "id": "6cc00ce0",
   "metadata": {},
   "outputs": [
    {
     "data": {
      "text/plain": [
       "['-',\n",
       " '-',\n",
       " '-',\n",
       " '-',\n",
       " '-',\n",
       " '-',\n",
       " '-',\n",
       " '-',\n",
       " '-',\n",
       " '-',\n",
       " '-',\n",
       " '-',\n",
       " '-',\n",
       " '-',\n",
       " '-',\n",
       " '-',\n",
       " '-',\n",
       " '-',\n",
       " '-',\n",
       " '-',\n",
       " '-',\n",
       " '-',\n",
       " '-',\n",
       " '-']"
      ]
     },
     "execution_count": 89,
     "metadata": {},
     "output_type": "execute_result"
    }
   ],
   "source": [
    "ram"
   ]
  },
  {
   "cell_type": "code",
   "execution_count": 90,
   "id": "15a29bad",
   "metadata": {},
   "outputs": [
    {
     "data": {
      "text/plain": [
       "['Google',\n",
       " 'vivo',\n",
       " 'vivo',\n",
       " 'vivo',\n",
       " 'vivo',\n",
       " 'vivo',\n",
       " 'realme',\n",
       " 'realme',\n",
       " 'realme',\n",
       " 'realme',\n",
       " 'realme',\n",
       " 'Realme',\n",
       " 'Realme',\n",
       " 'vivo',\n",
       " 'realme',\n",
       " 'realme',\n",
       " 'realme',\n",
       " 'Realme',\n",
       " 'realme',\n",
       " 'realme',\n",
       " 'realme',\n",
       " 'realme',\n",
       " 'realme',\n",
       " 'realme']"
      ]
     },
     "execution_count": 90,
     "metadata": {},
     "output_type": "execute_result"
    }
   ],
   "source": [
    "brand"
   ]
  },
  {
   "cell_type": "code",
   "execution_count": 91,
   "id": "d81c4d46",
   "metadata": {},
   "outputs": [
    {
     "data": {
      "text/html": [
       "<div>\n",
       "<style scoped>\n",
       "    .dataframe tbody tr th:only-of-type {\n",
       "        vertical-align: middle;\n",
       "    }\n",
       "\n",
       "    .dataframe tbody tr th {\n",
       "        vertical-align: top;\n",
       "    }\n",
       "\n",
       "    .dataframe thead th {\n",
       "        text-align: right;\n",
       "    }\n",
       "</style>\n",
       "<table border=\"1\" class=\"dataframe\">\n",
       "  <thead>\n",
       "    <tr style=\"text-align: right;\">\n",
       "      <th></th>\n",
       "      <th>Brand Name</th>\n",
       "      <th>RAM</th>\n",
       "      <th>ROM</th>\n",
       "      <th>Primary Camera</th>\n",
       "      <th>Secondary Camera</th>\n",
       "      <th>Display size</th>\n",
       "      <th>Battery</th>\n",
       "      <th>Price</th>\n",
       "    </tr>\n",
       "  </thead>\n",
       "  <tbody>\n",
       "    <tr>\n",
       "      <th>0</th>\n",
       "      <td>Google</td>\n",
       "      <td>-</td>\n",
       "      <td>-</td>\n",
       "      <td>-</td>\n",
       "      <td>-</td>\n",
       "      <td>-</td>\n",
       "      <td>-</td>\n",
       "      <td>₹31,999</td>\n",
       "    </tr>\n",
       "    <tr>\n",
       "      <th>1</th>\n",
       "      <td>vivo</td>\n",
       "      <td>-</td>\n",
       "      <td>-</td>\n",
       "      <td>-</td>\n",
       "      <td>-</td>\n",
       "      <td>-</td>\n",
       "      <td>-</td>\n",
       "      <td>₹14,499</td>\n",
       "    </tr>\n",
       "    <tr>\n",
       "      <th>2</th>\n",
       "      <td>vivo</td>\n",
       "      <td>-</td>\n",
       "      <td>-</td>\n",
       "      <td>-</td>\n",
       "      <td>-</td>\n",
       "      <td>-</td>\n",
       "      <td>-</td>\n",
       "      <td>₹14,499</td>\n",
       "    </tr>\n",
       "    <tr>\n",
       "      <th>3</th>\n",
       "      <td>vivo</td>\n",
       "      <td>-</td>\n",
       "      <td>-</td>\n",
       "      <td>-</td>\n",
       "      <td>-</td>\n",
       "      <td>-</td>\n",
       "      <td>-</td>\n",
       "      <td>₹15,999</td>\n",
       "    </tr>\n",
       "    <tr>\n",
       "      <th>4</th>\n",
       "      <td>vivo</td>\n",
       "      <td>-</td>\n",
       "      <td>-</td>\n",
       "      <td>-</td>\n",
       "      <td>-</td>\n",
       "      <td>-</td>\n",
       "      <td>-</td>\n",
       "      <td>₹15,999</td>\n",
       "    </tr>\n",
       "    <tr>\n",
       "      <th>5</th>\n",
       "      <td>vivo</td>\n",
       "      <td>-</td>\n",
       "      <td>-</td>\n",
       "      <td>-</td>\n",
       "      <td>-</td>\n",
       "      <td>-</td>\n",
       "      <td>-</td>\n",
       "      <td>₹17,999</td>\n",
       "    </tr>\n",
       "    <tr>\n",
       "      <th>6</th>\n",
       "      <td>realme</td>\n",
       "      <td>-</td>\n",
       "      <td>-</td>\n",
       "      <td>-</td>\n",
       "      <td>-</td>\n",
       "      <td>-</td>\n",
       "      <td>-</td>\n",
       "      <td>₹5,999</td>\n",
       "    </tr>\n",
       "    <tr>\n",
       "      <th>7</th>\n",
       "      <td>realme</td>\n",
       "      <td>-</td>\n",
       "      <td>-</td>\n",
       "      <td>-</td>\n",
       "      <td>-</td>\n",
       "      <td>-</td>\n",
       "      <td>-</td>\n",
       "      <td>₹27,999</td>\n",
       "    </tr>\n",
       "    <tr>\n",
       "      <th>8</th>\n",
       "      <td>realme</td>\n",
       "      <td>-</td>\n",
       "      <td>-</td>\n",
       "      <td>-</td>\n",
       "      <td>-</td>\n",
       "      <td>-</td>\n",
       "      <td>-</td>\n",
       "      <td>₹6,999</td>\n",
       "    </tr>\n",
       "    <tr>\n",
       "      <th>9</th>\n",
       "      <td>realme</td>\n",
       "      <td>-</td>\n",
       "      <td>-</td>\n",
       "      <td>-</td>\n",
       "      <td>-</td>\n",
       "      <td>-</td>\n",
       "      <td>-</td>\n",
       "      <td>₹6,999</td>\n",
       "    </tr>\n",
       "    <tr>\n",
       "      <th>10</th>\n",
       "      <td>realme</td>\n",
       "      <td>-</td>\n",
       "      <td>-</td>\n",
       "      <td>-</td>\n",
       "      <td>-</td>\n",
       "      <td>-</td>\n",
       "      <td>-</td>\n",
       "      <td>₹6,999</td>\n",
       "    </tr>\n",
       "    <tr>\n",
       "      <th>11</th>\n",
       "      <td>Realme</td>\n",
       "      <td>-</td>\n",
       "      <td>-</td>\n",
       "      <td>-</td>\n",
       "      <td>-</td>\n",
       "      <td>-</td>\n",
       "      <td>-</td>\n",
       "      <td>₹5,549</td>\n",
       "    </tr>\n",
       "    <tr>\n",
       "      <th>12</th>\n",
       "      <td>Realme</td>\n",
       "      <td>-</td>\n",
       "      <td>-</td>\n",
       "      <td>-</td>\n",
       "      <td>-</td>\n",
       "      <td>-</td>\n",
       "      <td>-</td>\n",
       "      <td>₹5,549</td>\n",
       "    </tr>\n",
       "    <tr>\n",
       "      <th>13</th>\n",
       "      <td>vivo</td>\n",
       "      <td>-</td>\n",
       "      <td>-</td>\n",
       "      <td>-</td>\n",
       "      <td>-</td>\n",
       "      <td>-</td>\n",
       "      <td>-</td>\n",
       "      <td>₹17,999</td>\n",
       "    </tr>\n",
       "    <tr>\n",
       "      <th>14</th>\n",
       "      <td>realme</td>\n",
       "      <td>-</td>\n",
       "      <td>-</td>\n",
       "      <td>-</td>\n",
       "      <td>-</td>\n",
       "      <td>-</td>\n",
       "      <td>-</td>\n",
       "      <td>₹25,999</td>\n",
       "    </tr>\n",
       "    <tr>\n",
       "      <th>15</th>\n",
       "      <td>realme</td>\n",
       "      <td>-</td>\n",
       "      <td>-</td>\n",
       "      <td>-</td>\n",
       "      <td>-</td>\n",
       "      <td>-</td>\n",
       "      <td>-</td>\n",
       "      <td>₹8,999</td>\n",
       "    </tr>\n",
       "    <tr>\n",
       "      <th>16</th>\n",
       "      <td>realme</td>\n",
       "      <td>-</td>\n",
       "      <td>-</td>\n",
       "      <td>-</td>\n",
       "      <td>-</td>\n",
       "      <td>-</td>\n",
       "      <td>-</td>\n",
       "      <td>₹8,999</td>\n",
       "    </tr>\n",
       "    <tr>\n",
       "      <th>17</th>\n",
       "      <td>Realme</td>\n",
       "      <td>-</td>\n",
       "      <td>-</td>\n",
       "      <td>-</td>\n",
       "      <td>-</td>\n",
       "      <td>-</td>\n",
       "      <td>-</td>\n",
       "      <td>₹5,549</td>\n",
       "    </tr>\n",
       "    <tr>\n",
       "      <th>18</th>\n",
       "      <td>realme</td>\n",
       "      <td>-</td>\n",
       "      <td>-</td>\n",
       "      <td>-</td>\n",
       "      <td>-</td>\n",
       "      <td>-</td>\n",
       "      <td>-</td>\n",
       "      <td>₹9,999</td>\n",
       "    </tr>\n",
       "    <tr>\n",
       "      <th>19</th>\n",
       "      <td>realme</td>\n",
       "      <td>-</td>\n",
       "      <td>-</td>\n",
       "      <td>-</td>\n",
       "      <td>-</td>\n",
       "      <td>-</td>\n",
       "      <td>-</td>\n",
       "      <td>₹9,999</td>\n",
       "    </tr>\n",
       "    <tr>\n",
       "      <th>20</th>\n",
       "      <td>realme</td>\n",
       "      <td>-</td>\n",
       "      <td>-</td>\n",
       "      <td>-</td>\n",
       "      <td>-</td>\n",
       "      <td>-</td>\n",
       "      <td>-</td>\n",
       "      <td>₹9,999</td>\n",
       "    </tr>\n",
       "    <tr>\n",
       "      <th>21</th>\n",
       "      <td>realme</td>\n",
       "      <td>-</td>\n",
       "      <td>-</td>\n",
       "      <td>-</td>\n",
       "      <td>-</td>\n",
       "      <td>-</td>\n",
       "      <td>-</td>\n",
       "      <td>₹5,999</td>\n",
       "    </tr>\n",
       "    <tr>\n",
       "      <th>22</th>\n",
       "      <td>realme</td>\n",
       "      <td>-</td>\n",
       "      <td>-</td>\n",
       "      <td>-</td>\n",
       "      <td>-</td>\n",
       "      <td>-</td>\n",
       "      <td>-</td>\n",
       "      <td>₹5,999</td>\n",
       "    </tr>\n",
       "    <tr>\n",
       "      <th>23</th>\n",
       "      <td>realme</td>\n",
       "      <td>-</td>\n",
       "      <td>-</td>\n",
       "      <td>-</td>\n",
       "      <td>-</td>\n",
       "      <td>-</td>\n",
       "      <td>-</td>\n",
       "      <td>₹13,999</td>\n",
       "    </tr>\n",
       "  </tbody>\n",
       "</table>\n",
       "</div>"
      ],
      "text/plain": [
       "   Brand Name RAM ROM Primary Camera Secondary Camera Display size Battery  \\\n",
       "0      Google   -   -              -                -            -       -   \n",
       "1        vivo   -   -              -                -            -       -   \n",
       "2        vivo   -   -              -                -            -       -   \n",
       "3        vivo   -   -              -                -            -       -   \n",
       "4        vivo   -   -              -                -            -       -   \n",
       "5        vivo   -   -              -                -            -       -   \n",
       "6      realme   -   -              -                -            -       -   \n",
       "7      realme   -   -              -                -            -       -   \n",
       "8      realme   -   -              -                -            -       -   \n",
       "9      realme   -   -              -                -            -       -   \n",
       "10     realme   -   -              -                -            -       -   \n",
       "11     Realme   -   -              -                -            -       -   \n",
       "12     Realme   -   -              -                -            -       -   \n",
       "13       vivo   -   -              -                -            -       -   \n",
       "14     realme   -   -              -                -            -       -   \n",
       "15     realme   -   -              -                -            -       -   \n",
       "16     realme   -   -              -                -            -       -   \n",
       "17     Realme   -   -              -                -            -       -   \n",
       "18     realme   -   -              -                -            -       -   \n",
       "19     realme   -   -              -                -            -       -   \n",
       "20     realme   -   -              -                -            -       -   \n",
       "21     realme   -   -              -                -            -       -   \n",
       "22     realme   -   -              -                -            -       -   \n",
       "23     realme   -   -              -                -            -       -   \n",
       "\n",
       "      Price  \n",
       "0   ₹31,999  \n",
       "1   ₹14,499  \n",
       "2   ₹14,499  \n",
       "3   ₹15,999  \n",
       "4   ₹15,999  \n",
       "5   ₹17,999  \n",
       "6    ₹5,999  \n",
       "7   ₹27,999  \n",
       "8    ₹6,999  \n",
       "9    ₹6,999  \n",
       "10   ₹6,999  \n",
       "11   ₹5,549  \n",
       "12   ₹5,549  \n",
       "13  ₹17,999  \n",
       "14  ₹25,999  \n",
       "15   ₹8,999  \n",
       "16   ₹8,999  \n",
       "17   ₹5,549  \n",
       "18   ₹9,999  \n",
       "19   ₹9,999  \n",
       "20   ₹9,999  \n",
       "21   ₹5,999  \n",
       "22   ₹5,999  \n",
       "23  ₹13,999  "
      ]
     },
     "execution_count": 91,
     "metadata": {},
     "output_type": "execute_result"
    }
   ],
   "source": [
    "Smartphone_data=pd.DataFrame({'Brand Name':brand,'RAM':ram,'ROM':rom,'Primary Camera':primary_cam,'Secondary Camera':secondary_cam,'Display size':display,'Battery':battery, 'Price':price})\n",
    "Smartphone_data"
   ]
  },
  {
   "cell_type": "code",
   "execution_count": 92,
   "id": "fa607bb7",
   "metadata": {},
   "outputs": [],
   "source": [
    "# Question no:- 5\n",
    "\n",
    "import time"
   ]
  },
  {
   "cell_type": "code",
   "execution_count": 93,
   "id": "be3d7718",
   "metadata": {},
   "outputs": [],
   "source": [
    "url='https://www.google.com/maps'\n",
    "driver.get(url)\n",
    "time.sleep(4)"
   ]
  },
  {
   "cell_type": "code",
   "execution_count": 94,
   "id": "93db2b7a",
   "metadata": {},
   "outputs": [
    {
     "name": "stdout",
     "output_type": "stream",
     "text": [
      "Enter the City Name: Mumbai\n"
     ]
    }
   ],
   "source": [
    "inp=driver.find_element(By.ID, \"searchboxinput\")\n",
    "loc=input(\"Enter the City Name: \")\n",
    "inp.send_keys(loc)"
   ]
  },
  {
   "cell_type": "code",
   "execution_count": 95,
   "id": "1701a22f",
   "metadata": {},
   "outputs": [],
   "source": [
    "search=driver.find_element(By.ID, \"searchbox-searchbutton\")\n",
    "search.click()"
   ]
  },
  {
   "cell_type": "code",
   "execution_count": 96,
   "id": "45c67af9",
   "metadata": {},
   "outputs": [
    {
     "name": "stdout",
     "output_type": "stream",
     "text": [
      "Requirement already satisfied: geopy in c:\\users\\kiran digambar yadav\\anaconda3\\lib\\site-packages (2.3.0)\n",
      "Requirement already satisfied: geographiclib<3,>=1.52 in c:\\users\\kiran digambar yadav\\anaconda3\\lib\\site-packages (from geopy) (2.0)\n"
     ]
    }
   ],
   "source": [
    "!pip install geopy"
   ]
  },
  {
   "cell_type": "code",
   "execution_count": 97,
   "id": "329d0783",
   "metadata": {},
   "outputs": [
    {
     "name": "stdout",
     "output_type": "stream",
     "text": [
      "latitude is :- 19.0785451 \n",
      "longtitude is:- 72.878176\n"
     ]
    }
   ],
   "source": [
    "import geopy\n",
    "from geopy.geocoders import Nominatim\n",
    "geolocator = Nominatim(user_agent=\"jupyter\")\n",
    "\n",
    "location= geolocator.geocode(loc)\n",
    "print(\"latitude is :-\" ,location.latitude,\"\\nlongtitude is:-\" ,location.longitude)"
   ]
  },
  {
   "cell_type": "code",
   "execution_count": 98,
   "id": "fce4088e",
   "metadata": {},
   "outputs": [],
   "source": [
    "# Question no:- 7\n",
    "\n",
    "url='https://www.digit.in'\n",
    "driver.get(url)"
   ]
  },
  {
   "cell_type": "code",
   "execution_count": 99,
   "id": "bb722808",
   "metadata": {},
   "outputs": [],
   "source": [
    "driver.find_element(By.XPATH, '//a[@class=\"arrow_down gaming\"]').click()\n",
    "time.sleep(3)"
   ]
  },
  {
   "cell_type": "code",
   "execution_count": 100,
   "id": "8c8ecae1",
   "metadata": {},
   "outputs": [],
   "source": [
    "driver.find_element(By.XPATH, '/html/body/div[2]/div/ul/li[5]/div[2]/div/div[2]/div/ul[3]/li[4]/a').click()\n",
    "time.sleep(3)"
   ]
  },
  {
   "cell_type": "code",
   "execution_count": 101,
   "id": "62fde364",
   "metadata": {},
   "outputs": [],
   "source": [
    "try:\n",
    "    ele=driver.find_element(By.XPATH, '/html/body/div[3]/div/div[2]/div[1]/div/ul/li[3]')\n",
    "    driver.execute_script(\"arguments[0].click();\", ele)\n",
    "except ElementClickInterceptedException as e:\n",
    "    src= driver.find_element(By.XPATH, '/html/body/div[3]/div/div[2]/div[1]/div/ul/li[3]').get_attribute('src')\n",
    "    driver.get(src)"
   ]
  },
  {
   "cell_type": "code",
   "execution_count": 102,
   "id": "97aa70b2",
   "metadata": {},
   "outputs": [],
   "source": [
    "product_url=[]\n",
    "url=driver.find_elements(By.XPATH, '//div[@class=\"TopNumbeHeading active sticky-footer\"]/a')\n",
    "for i in url:\n",
    "    product_url.append(i.get_attribute('href'))"
   ]
  },
  {
   "cell_type": "code",
   "execution_count": 103,
   "id": "651fb9a8",
   "metadata": {},
   "outputs": [
    {
     "data": {
      "text/plain": [
       "[]"
      ]
     },
     "execution_count": 103,
     "metadata": {},
     "output_type": "execute_result"
    }
   ],
   "source": [
    "product_url"
   ]
  },
  {
   "cell_type": "code",
   "execution_count": 104,
   "id": "91df3ce9",
   "metadata": {},
   "outputs": [],
   "source": [
    "# Question No:- 8\n",
    "\n",
    "url='https://www.forbes.com'\n",
    "driver.get(url)\n",
    "time.sleep(5)"
   ]
  },
  {
   "cell_type": "code",
   "execution_count": 105,
   "id": "eaa08375",
   "metadata": {},
   "outputs": [],
   "source": [
    "try:\n",
    "    bill=driver.find_element(By.XPATH, '//div[@class=\"footer__nav\"]//a[2]')\n",
    "    bill.click()\n",
    "except:\n",
    "    bill=driver.find_element(By.XPATH, '//a[@class=\"footer__nav-item\"]')\n",
    "    bill.click()"
   ]
  },
  {
   "cell_type": "code",
   "execution_count": 106,
   "id": "49f466d7",
   "metadata": {},
   "outputs": [],
   "source": [
    "li=driver.find_element(By.XPATH, '/html/body/div[1]/main/div/section/section[1]/div/div/div[1]/div/div[1]/div[1]/div[2]/a/h2')\n",
    "li.click()"
   ]
  },
  {
   "cell_type": "code",
   "execution_count": 108,
   "id": "7234b4c5",
   "metadata": {},
   "outputs": [],
   "source": [
    "my_list=driver.find_element(By.XPATH, '/html/body/div[1]/div[1]/div/div[2]/div[1]/div[2]/div/div[1]/div[1]/a')\n",
    "my_list.click()"
   ]
  },
  {
   "cell_type": "code",
   "execution_count": 109,
   "id": "2510de72",
   "metadata": {},
   "outputs": [],
   "source": [
    "rank=[]\n",
    "name=[]\n",
    "worth=[]\n",
    "age=[]\n",
    "country=[]\n",
    "source=[]\n",
    "industry=[]"
   ]
  },
  {
   "cell_type": "code",
   "execution_count": 110,
   "id": "1c427eb5",
   "metadata": {},
   "outputs": [],
   "source": [
    "for i in driver.find_elements(By.XPATH, '//div[@class=\"rank\"]'):\n",
    "    rank.append(i.text)\n",
    "    \n",
    "for i in driver.find_elements(By.XPATH, '//div[@class=\"personName\"]'):\n",
    "    name.append(i.text)\n",
    "    \n",
    "for i in driver.find_elements(By.XPATH, '//div[@class=\"netWorth\"]'):\n",
    "    worth.append(i.text)\n",
    "    \n",
    "for i in driver.find_elements(By.XPATH, '//div[@class=\"age\"]'):\n",
    "    age.append(i.text)\n",
    "    \n",
    "for i in driver.find_elements(By.XPATH, '//div[@class=\"countryOfCitizenship\"]'):\n",
    "    country.append(i.text)\n",
    "    \n",
    "for i in driver.find_elements(By.XPATH, '//div[@class=\"source\"]'):\n",
    "    source.append(i.text)\n",
    "    \n",
    "for i in driver.find_elements(By.XPATH, '//div[@class=\"category\"]'):\n",
    "    industry.append(i.text)"
   ]
  },
  {
   "cell_type": "code",
   "execution_count": 111,
   "id": "88100c11",
   "metadata": {},
   "outputs": [
    {
     "data": {
      "text/plain": [
       "200"
      ]
     },
     "execution_count": 111,
     "metadata": {},
     "output_type": "execute_result"
    }
   ],
   "source": [
    "len(rank)"
   ]
  },
  {
   "cell_type": "code",
   "execution_count": 112,
   "id": "a418bc31",
   "metadata": {},
   "outputs": [
    {
     "data": {
      "text/plain": [
       "200"
      ]
     },
     "execution_count": 112,
     "metadata": {},
     "output_type": "execute_result"
    }
   ],
   "source": [
    "len(name)"
   ]
  },
  {
   "cell_type": "code",
   "execution_count": 113,
   "id": "9c4789e7",
   "metadata": {},
   "outputs": [
    {
     "data": {
      "text/plain": [
       "200"
      ]
     },
     "execution_count": 113,
     "metadata": {},
     "output_type": "execute_result"
    }
   ],
   "source": [
    "len(worth)"
   ]
  },
  {
   "cell_type": "code",
   "execution_count": 114,
   "id": "62c9b705",
   "metadata": {},
   "outputs": [
    {
     "data": {
      "text/plain": [
       "200"
      ]
     },
     "execution_count": 114,
     "metadata": {},
     "output_type": "execute_result"
    }
   ],
   "source": [
    "len(age)"
   ]
  },
  {
   "cell_type": "code",
   "execution_count": 115,
   "id": "9d446539",
   "metadata": {},
   "outputs": [
    {
     "data": {
      "text/plain": [
       "200"
      ]
     },
     "execution_count": 115,
     "metadata": {},
     "output_type": "execute_result"
    }
   ],
   "source": [
    "len(country)"
   ]
  },
  {
   "cell_type": "code",
   "execution_count": 116,
   "id": "d221d782",
   "metadata": {},
   "outputs": [
    {
     "data": {
      "text/plain": [
       "200"
      ]
     },
     "execution_count": 116,
     "metadata": {},
     "output_type": "execute_result"
    }
   ],
   "source": [
    "len(source)"
   ]
  },
  {
   "cell_type": "code",
   "execution_count": 117,
   "id": "1ef499b8",
   "metadata": {},
   "outputs": [
    {
     "data": {
      "text/plain": [
       "200"
      ]
     },
     "execution_count": 117,
     "metadata": {},
     "output_type": "execute_result"
    }
   ],
   "source": [
    "len(industry)"
   ]
  },
  {
   "cell_type": "code",
   "execution_count": 118,
   "id": "d9983e29",
   "metadata": {},
   "outputs": [
    {
     "data": {
      "text/html": [
       "<div>\n",
       "<style scoped>\n",
       "    .dataframe tbody tr th:only-of-type {\n",
       "        vertical-align: middle;\n",
       "    }\n",
       "\n",
       "    .dataframe tbody tr th {\n",
       "        vertical-align: top;\n",
       "    }\n",
       "\n",
       "    .dataframe thead th {\n",
       "        text-align: right;\n",
       "    }\n",
       "</style>\n",
       "<table border=\"1\" class=\"dataframe\">\n",
       "  <thead>\n",
       "    <tr style=\"text-align: right;\">\n",
       "      <th></th>\n",
       "      <th>Rank</th>\n",
       "      <th>Name</th>\n",
       "      <th>Net worth</th>\n",
       "      <th>Age</th>\n",
       "      <th>Citizenship</th>\n",
       "      <th>Source</th>\n",
       "      <th>Industry</th>\n",
       "    </tr>\n",
       "  </thead>\n",
       "  <tbody>\n",
       "    <tr>\n",
       "      <th>0</th>\n",
       "      <td>1.</td>\n",
       "      <td>Elon Musk</td>\n",
       "      <td>$219 B</td>\n",
       "      <td></td>\n",
       "      <td>United States</td>\n",
       "      <td></td>\n",
       "      <td></td>\n",
       "    </tr>\n",
       "    <tr>\n",
       "      <th>1</th>\n",
       "      <td>2.</td>\n",
       "      <td>Jeff Bezos</td>\n",
       "      <td>$171 B</td>\n",
       "      <td></td>\n",
       "      <td>United States</td>\n",
       "      <td></td>\n",
       "      <td></td>\n",
       "    </tr>\n",
       "    <tr>\n",
       "      <th>2</th>\n",
       "      <td>3.</td>\n",
       "      <td>Bernard Arnault &amp; family</td>\n",
       "      <td>$158 B</td>\n",
       "      <td></td>\n",
       "      <td>France</td>\n",
       "      <td></td>\n",
       "      <td></td>\n",
       "    </tr>\n",
       "    <tr>\n",
       "      <th>3</th>\n",
       "      <td>4.</td>\n",
       "      <td>Bill Gates</td>\n",
       "      <td>$129 B</td>\n",
       "      <td></td>\n",
       "      <td>United States</td>\n",
       "      <td></td>\n",
       "      <td></td>\n",
       "    </tr>\n",
       "    <tr>\n",
       "      <th>4</th>\n",
       "      <td>5.</td>\n",
       "      <td>Warren Buffett</td>\n",
       "      <td>$118 B</td>\n",
       "      <td></td>\n",
       "      <td>United States</td>\n",
       "      <td></td>\n",
       "      <td></td>\n",
       "    </tr>\n",
       "    <tr>\n",
       "      <th>...</th>\n",
       "      <td>...</td>\n",
       "      <td>...</td>\n",
       "      <td>...</td>\n",
       "      <td>...</td>\n",
       "      <td>...</td>\n",
       "      <td>...</td>\n",
       "      <td>...</td>\n",
       "    </tr>\n",
       "    <tr>\n",
       "      <th>195</th>\n",
       "      <td>192.</td>\n",
       "      <td>Marcel Herrmann Telles</td>\n",
       "      <td>$10.3 B</td>\n",
       "      <td></td>\n",
       "      <td>Brazil</td>\n",
       "      <td>beer</td>\n",
       "      <td></td>\n",
       "    </tr>\n",
       "    <tr>\n",
       "      <th>196</th>\n",
       "      <td>197.</td>\n",
       "      <td>Leon Black</td>\n",
       "      <td>$10 B</td>\n",
       "      <td></td>\n",
       "      <td>United States</td>\n",
       "      <td>private equity</td>\n",
       "      <td></td>\n",
       "    </tr>\n",
       "    <tr>\n",
       "      <th>197</th>\n",
       "      <td>197.</td>\n",
       "      <td>Joe Gebbia</td>\n",
       "      <td>$10 B</td>\n",
       "      <td></td>\n",
       "      <td>United States</td>\n",
       "      <td>Airbnb</td>\n",
       "      <td></td>\n",
       "    </tr>\n",
       "    <tr>\n",
       "      <th>198</th>\n",
       "      <td>197.</td>\n",
       "      <td>David Geffen</td>\n",
       "      <td>$10 B</td>\n",
       "      <td></td>\n",
       "      <td>United States</td>\n",
       "      <td>movies, record labels</td>\n",
       "      <td></td>\n",
       "    </tr>\n",
       "    <tr>\n",
       "      <th>199</th>\n",
       "      <td>197.</td>\n",
       "      <td>Yu Renrong</td>\n",
       "      <td>$10 B</td>\n",
       "      <td></td>\n",
       "      <td>China</td>\n",
       "      <td>semiconductors</td>\n",
       "      <td></td>\n",
       "    </tr>\n",
       "  </tbody>\n",
       "</table>\n",
       "<p>200 rows × 7 columns</p>\n",
       "</div>"
      ],
      "text/plain": [
       "     Rank                      Name Net worth Age    Citizenship  \\\n",
       "0      1.                 Elon Musk    $219 B      United States   \n",
       "1      2.                Jeff Bezos    $171 B      United States   \n",
       "2      3.  Bernard Arnault & family    $158 B             France   \n",
       "3      4.                Bill Gates    $129 B      United States   \n",
       "4      5.            Warren Buffett    $118 B      United States   \n",
       "..    ...                       ...       ...  ..            ...   \n",
       "195  192.    Marcel Herrmann Telles   $10.3 B             Brazil   \n",
       "196  197.                Leon Black     $10 B      United States   \n",
       "197  197.                Joe Gebbia     $10 B      United States   \n",
       "198  197.              David Geffen     $10 B      United States   \n",
       "199  197.                Yu Renrong     $10 B              China   \n",
       "\n",
       "                    Source Industry  \n",
       "0                                    \n",
       "1                                    \n",
       "2                                    \n",
       "3                                    \n",
       "4                                    \n",
       "..                     ...      ...  \n",
       "195                   beer           \n",
       "196         private equity           \n",
       "197                 Airbnb           \n",
       "198  movies, record labels           \n",
       "199         semiconductors           \n",
       "\n",
       "[200 rows x 7 columns]"
      ]
     },
     "execution_count": 118,
     "metadata": {},
     "output_type": "execute_result"
    }
   ],
   "source": [
    "Billionaries_Data = pd.DataFrame({'Rank':rank, 'Name':name, 'Net worth':worth, \n",
    "                                  'Age':age, 'Citizenship':country, 'Source':source, 'Industry':industry})\n",
    "Billionaries_Data"
   ]
  },
  {
   "cell_type": "code",
   "execution_count": 119,
   "id": "1b2b5f12",
   "metadata": {},
   "outputs": [
    {
     "data": {
      "text/html": [
       "<div>\n",
       "<style scoped>\n",
       "    .dataframe tbody tr th:only-of-type {\n",
       "        vertical-align: middle;\n",
       "    }\n",
       "\n",
       "    .dataframe tbody tr th {\n",
       "        vertical-align: top;\n",
       "    }\n",
       "\n",
       "    .dataframe thead th {\n",
       "        text-align: right;\n",
       "    }\n",
       "</style>\n",
       "<table border=\"1\" class=\"dataframe\">\n",
       "  <thead>\n",
       "    <tr style=\"text-align: right;\">\n",
       "      <th></th>\n",
       "      <th>Rank</th>\n",
       "      <th>Name</th>\n",
       "      <th>Net worth</th>\n",
       "      <th>Age</th>\n",
       "      <th>Citizenship</th>\n",
       "      <th>Source</th>\n",
       "      <th>Industry</th>\n",
       "    </tr>\n",
       "  </thead>\n",
       "  <tbody>\n",
       "    <tr>\n",
       "      <th>195</th>\n",
       "      <td>192.</td>\n",
       "      <td>Marcel Herrmann Telles</td>\n",
       "      <td>$10.3 B</td>\n",
       "      <td></td>\n",
       "      <td>Brazil</td>\n",
       "      <td>beer</td>\n",
       "      <td></td>\n",
       "    </tr>\n",
       "    <tr>\n",
       "      <th>196</th>\n",
       "      <td>197.</td>\n",
       "      <td>Leon Black</td>\n",
       "      <td>$10 B</td>\n",
       "      <td></td>\n",
       "      <td>United States</td>\n",
       "      <td>private equity</td>\n",
       "      <td></td>\n",
       "    </tr>\n",
       "    <tr>\n",
       "      <th>197</th>\n",
       "      <td>197.</td>\n",
       "      <td>Joe Gebbia</td>\n",
       "      <td>$10 B</td>\n",
       "      <td></td>\n",
       "      <td>United States</td>\n",
       "      <td>Airbnb</td>\n",
       "      <td></td>\n",
       "    </tr>\n",
       "    <tr>\n",
       "      <th>198</th>\n",
       "      <td>197.</td>\n",
       "      <td>David Geffen</td>\n",
       "      <td>$10 B</td>\n",
       "      <td></td>\n",
       "      <td>United States</td>\n",
       "      <td>movies, record labels</td>\n",
       "      <td></td>\n",
       "    </tr>\n",
       "    <tr>\n",
       "      <th>199</th>\n",
       "      <td>197.</td>\n",
       "      <td>Yu Renrong</td>\n",
       "      <td>$10 B</td>\n",
       "      <td></td>\n",
       "      <td>China</td>\n",
       "      <td>semiconductors</td>\n",
       "      <td></td>\n",
       "    </tr>\n",
       "  </tbody>\n",
       "</table>\n",
       "</div>"
      ],
      "text/plain": [
       "     Rank                    Name Net worth Age    Citizenship  \\\n",
       "195  192.  Marcel Herrmann Telles   $10.3 B             Brazil   \n",
       "196  197.              Leon Black     $10 B      United States   \n",
       "197  197.              Joe Gebbia     $10 B      United States   \n",
       "198  197.            David Geffen     $10 B      United States   \n",
       "199  197.              Yu Renrong     $10 B              China   \n",
       "\n",
       "                    Source Industry  \n",
       "195                   beer           \n",
       "196         private equity           \n",
       "197                 Airbnb           \n",
       "198  movies, record labels           \n",
       "199         semiconductors           "
      ]
     },
     "execution_count": 119,
     "metadata": {},
     "output_type": "execute_result"
    }
   ],
   "source": [
    "Billionaries_Data.tail()"
   ]
  },
  {
   "cell_type": "code",
   "execution_count": 120,
   "id": "90070e82",
   "metadata": {},
   "outputs": [],
   "source": [
    "# question no:- 9\n",
    "\n",
    "url='https://www.youtube.com/'\n",
    "driver.get(url)"
   ]
  },
  {
   "cell_type": "code",
   "execution_count": 121,
   "id": "64399b28",
   "metadata": {},
   "outputs": [],
   "source": [
    "open_up=driver.find_element(By.XPATH, '/html/body/ytd-app/div[1]/ytd-page-manager/ytd-browse/ytd-two-column-browse-results-renderer/div[1]/ytd-rich-grid-renderer/div[6]/ytd-rich-grid-row[1]/div/ytd-rich-item-renderer[1]/div/ytd-rich-grid-media/div[1]/div[2]/div[1]/h3/a/yt-formatted-string')\n",
    "open_up.click()"
   ]
  },
  {
   "cell_type": "code",
   "execution_count": 124,
   "id": "ac37ec88",
   "metadata": {},
   "outputs": [],
   "source": [
    "comments=[]\n",
    "ct=driver.find_elements(By.XPATH, '/html/body/ytd-app/div[1]/ytd-page-manager/ytd-watch-flexy/div[5]/div[1]/div/div[2]/ytd-comments/ytd-item-section-renderer/div[3]/ytd-comment-thread-renderer[1]/ytd-comment-renderer/div[3]/div[2]/div[2]/ytd-expander/div/yt-formatted-string/span')\n",
    "for i in ct:\n",
    "    comments.append(i.text)\n",
    "comments=comments"
   ]
  },
  {
   "cell_type": "code",
   "execution_count": 125,
   "id": "72007678",
   "metadata": {},
   "outputs": [
    {
     "data": {
      "text/plain": [
       "['Peyush being scared was the best part']"
      ]
     },
     "execution_count": 125,
     "metadata": {},
     "output_type": "execute_result"
    }
   ],
   "source": [
    "comments"
   ]
  },
  {
   "cell_type": "code",
   "execution_count": 126,
   "id": "59045748",
   "metadata": {},
   "outputs": [],
   "source": [
    "time=[]\n",
    "te=driver.find_elements(By.XPATH, '/html/body/ytd-app/div[1]/ytd-page-manager/ytd-watch-flexy/div[5]/div[1]/div/div[2]/ytd-comments/ytd-item-section-renderer/div[3]/ytd-comment-thread-renderer[1]/ytd-comment-renderer/div[3]/div[2]/div[1]/div[2]/yt-formatted-string/a')\n",
    "for i in te:\n",
    "    time.append(i.text)\n",
    "time=time    "
   ]
  },
  {
   "cell_type": "code",
   "execution_count": 127,
   "id": "02cb2756",
   "metadata": {},
   "outputs": [
    {
     "data": {
      "text/plain": [
       "['8 days ago']"
      ]
     },
     "execution_count": 127,
     "metadata": {},
     "output_type": "execute_result"
    }
   ],
   "source": [
    "time"
   ]
  },
  {
   "cell_type": "code",
   "execution_count": 128,
   "id": "d2235626",
   "metadata": {},
   "outputs": [],
   "source": [
    "# Question No:- 10\n",
    "\n",
    "url='https://www.hostelworld.com/'\n",
    "driver.get(url)"
   ]
  },
  {
   "cell_type": "code",
   "execution_count": 130,
   "id": "e5a0a25c",
   "metadata": {},
   "outputs": [],
   "source": [
    "search=driver.find_element(By.XPATH,'/html/body/div[3]/div/div/div[2]/div[2]/div/div/div[4]/div/div[2]/div/div[1]/div/div/div/input')\n",
    "search.send_keys('London')"
   ]
  },
  {
   "cell_type": "code",
   "execution_count": 131,
   "id": "11d280f9",
   "metadata": {},
   "outputs": [],
   "source": [
    "quick_search=driver.find_element(By.XPATH, '/html/body/div[3]/div/div/div[2]/div[2]/div/div/div[4]/div/div[2]/div/div[1]/div/div/ul/li[2]/div')\n",
    "quick_search.click()"
   ]
  },
  {
   "cell_type": "code",
   "execution_count": 132,
   "id": "16a03c68",
   "metadata": {},
   "outputs": [],
   "source": [
    "lets_go = driver.find_element(By.XPATH, '/html/body/div[3]/div/div/div[2]/div[2]/div/div/div[4]/div/div[2]/div/div[5]/button')\n",
    "lets_go.click()"
   ]
  },
  {
   "cell_type": "code",
   "execution_count": 135,
   "id": "1ca4f0e1",
   "metadata": {},
   "outputs": [],
   "source": [
    "for i in driver.find_elements(By.CLASS_NAME, \"title title-6\"):\n",
    "    names.append(i.text)\n",
    "for i in driver.find_elements(By.CLASS_NAME, \"description\"):\n",
    "    distance.append(i.text.split(\"-\")[1])\n",
    "for i in driver.find_elements(By.XPATH, '//div[@class=\"keyword\"]//span'):\n",
    "    overall_review.append(i.text)\n",
    "for i in driver.find_elements(By.XPATH, '//div[@class=\"score orange big\"]'):\n",
    "    rating.append(i.text)\n",
    "for i in driver.find_elements(By.XPATH, '//div[@class=\"reviews\"]'):\n",
    "    total_review.append(i.text)\n",
    "for i in driver.find_elements(By.XPATH,'/html/body/div[3]/div/div/div[1]/div[4]/div/div/div[2]/div[3]/a[1]/div[1]/div'):\n",
    "    if i.text is None:\n",
    "        privates.append('-')\n",
    "    else:\n",
    "        privates.append(i.text)\n",
    "for i in driver.find_elements(By.XPATH, '/html/body/div[3]/div/div/div[1]/div[4]/div/div/div[2]/div[3]/a[1]/div[2]/div'):\n",
    "    if i.text is None:\n",
    "        dorms.append('-')\n",
    "    else:\n",
    "        dorms.append(i.text)"
   ]
  },
  {
   "cell_type": "code",
   "execution_count": 136,
   "id": "b455d326",
   "metadata": {},
   "outputs": [
    {
     "data": {
      "text/plain": [
       "0"
      ]
     },
     "execution_count": 136,
     "metadata": {},
     "output_type": "execute_result"
    }
   ],
   "source": [
    "len(names)"
   ]
  },
  {
   "cell_type": "code",
   "execution_count": 137,
   "id": "9c0b7ba8",
   "metadata": {},
   "outputs": [
    {
     "data": {
      "text/plain": [
       "0"
      ]
     },
     "execution_count": 137,
     "metadata": {},
     "output_type": "execute_result"
    }
   ],
   "source": [
    "len(distance)"
   ]
  },
  {
   "cell_type": "code",
   "execution_count": 138,
   "id": "528b5e28",
   "metadata": {},
   "outputs": [
    {
     "data": {
      "text/plain": [
       "0"
      ]
     },
     "execution_count": 138,
     "metadata": {},
     "output_type": "execute_result"
    }
   ],
   "source": [
    "len(rating)"
   ]
  },
  {
   "cell_type": "code",
   "execution_count": 139,
   "id": "435d9d09",
   "metadata": {},
   "outputs": [
    {
     "data": {
      "text/plain": [
       "0"
      ]
     },
     "execution_count": 139,
     "metadata": {},
     "output_type": "execute_result"
    }
   ],
   "source": [
    "len(total_review)"
   ]
  },
  {
   "cell_type": "code",
   "execution_count": 140,
   "id": "7c346c47",
   "metadata": {},
   "outputs": [
    {
     "data": {
      "text/plain": [
       "0"
      ]
     },
     "execution_count": 140,
     "metadata": {},
     "output_type": "execute_result"
    }
   ],
   "source": [
    "len(overall_review)"
   ]
  },
  {
   "cell_type": "code",
   "execution_count": 141,
   "id": "d10e69e2",
   "metadata": {},
   "outputs": [
    {
     "data": {
      "text/plain": [
       "0"
      ]
     },
     "execution_count": 141,
     "metadata": {},
     "output_type": "execute_result"
    }
   ],
   "source": [
    "len(privates)"
   ]
  },
  {
   "cell_type": "code",
   "execution_count": 142,
   "id": "c181f9e5",
   "metadata": {},
   "outputs": [
    {
     "data": {
      "text/plain": [
       "0"
      ]
     },
     "execution_count": 142,
     "metadata": {},
     "output_type": "execute_result"
    }
   ],
   "source": [
    "len(dorms)"
   ]
  },
  {
   "cell_type": "code",
   "execution_count": 134,
   "id": "cb949c08",
   "metadata": {},
   "outputs": [],
   "source": [
    "names=[]\n",
    "distance=[]\n",
    "rating=[]\n",
    "total_review=[]\n",
    "overall_review=[]\n",
    "privates=[]\n",
    "dorms=[]"
   ]
  },
  {
   "cell_type": "code",
   "execution_count": 143,
   "id": "0a69b6a8",
   "metadata": {},
   "outputs": [
    {
     "data": {
      "text/html": [
       "<div>\n",
       "<style scoped>\n",
       "    .dataframe tbody tr th:only-of-type {\n",
       "        vertical-align: middle;\n",
       "    }\n",
       "\n",
       "    .dataframe tbody tr th {\n",
       "        vertical-align: top;\n",
       "    }\n",
       "\n",
       "    .dataframe thead th {\n",
       "        text-align: right;\n",
       "    }\n",
       "</style>\n",
       "<table border=\"1\" class=\"dataframe\">\n",
       "  <thead>\n",
       "    <tr style=\"text-align: right;\">\n",
       "      <th></th>\n",
       "      <th>Names</th>\n",
       "      <th>Distance</th>\n",
       "      <th>Rating</th>\n",
       "      <th>Total Review</th>\n",
       "      <th>Overall_reviewed</th>\n",
       "      <th>Facilities</th>\n",
       "      <th>Property Description</th>\n",
       "    </tr>\n",
       "  </thead>\n",
       "  <tbody>\n",
       "  </tbody>\n",
       "</table>\n",
       "</div>"
      ],
      "text/plain": [
       "Empty DataFrame\n",
       "Columns: [Names, Distance, Rating, Total Review, Overall_reviewed, Facilities, Property Description]\n",
       "Index: []"
      ]
     },
     "execution_count": 143,
     "metadata": {},
     "output_type": "execute_result"
    }
   ],
   "source": [
    "Hostel_Data = pd.DataFrame({'Names':names, 'Distance':distance, 'Rating':rating, 'Total Review':total_review, 'Overall_reviewed':overall_review, \n",
    "                            'Facilities':privates, 'Property Description':dorms})\n",
    "Hostel_Data"
   ]
  }
 ],
 "metadata": {
  "kernelspec": {
   "display_name": "Python 3 (ipykernel)",
   "language": "python",
   "name": "python3"
  },
  "language_info": {
   "codemirror_mode": {
    "name": "ipython",
    "version": 3
   },
   "file_extension": ".py",
   "mimetype": "text/x-python",
   "name": "python",
   "nbconvert_exporter": "python",
   "pygments_lexer": "ipython3",
   "version": "3.9.12"
  }
 },
 "nbformat": 4,
 "nbformat_minor": 5
}
